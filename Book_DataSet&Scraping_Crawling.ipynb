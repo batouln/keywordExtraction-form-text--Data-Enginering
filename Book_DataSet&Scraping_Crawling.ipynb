{
  "nbformat": 4,
  "nbformat_minor": 0,
  "metadata": {
    "colab": {
      "provenance": []
    },
    "kernelspec": {
      "name": "python3",
      "display_name": "Python 3"
    },
    "language_info": {
      "name": "python"
    }
  },
  "cells": [
    {
      "cell_type": "code",
      "execution_count": null,
      "metadata": {
        "id": "7uoWDPbXEKpu"
      },
      "outputs": [],
      "source": [
        "#In this notebook I am going to implement the extractiton of book skills and then implement scraping & crawling >>>> after this i am going to combine them, so any new book will be added we can extract from its description a set of keywrords>>>>skills (the normalized one)"
      ]
    },
    {
      "cell_type": "code",
      "source": [
        "import numpy as np\n",
        "import pandas as pd"
      ],
      "metadata": {
        "id": "14K9kdlCfg5n"
      },
      "execution_count": null,
      "outputs": []
    },
    {
      "cell_type": "code",
      "source": [
        "#more packages I am going to use\n",
        "import nltk\n",
        "from nltk.corpus import stopwords\n",
        "from nltk.tokenize import word_tokenize\n",
        "from nltk.stem import WordNetLemmatizer, PorterStemmer\n",
        "import string\n",
        "import matplotlib.pyplot as plt"
      ],
      "metadata": {
        "id": "0NYRcdDYhQqq"
      },
      "execution_count": null,
      "outputs": []
    },
    {
      "cell_type": "code",
      "source": [
        "import gensim"
      ],
      "metadata": {
        "id": "__CCu7OpzmOc"
      },
      "execution_count": null,
      "outputs": []
    },
    {
      "cell_type": "code",
      "source": [
        "nltk.download('stopwords')"
      ],
      "metadata": {
        "colab": {
          "base_uri": "https://localhost:8080/"
        },
        "id": "79HwyKMHAmDF",
        "outputId": "0ef8bd60-53e6-4ae0-815e-224cf78c7191"
      },
      "execution_count": null,
      "outputs": [
        {
          "output_type": "stream",
          "name": "stderr",
          "text": [
            "[nltk_data] Downloading package stopwords to /root/nltk_data...\n",
            "[nltk_data]   Unzipping corpora/stopwords.zip.\n"
          ]
        },
        {
          "output_type": "execute_result",
          "data": {
            "text/plain": [
              "True"
            ]
          },
          "metadata": {},
          "execution_count": 3
        }
      ]
    },
    {
      "cell_type": "code",
      "source": [
        "books=pd.read_csv(\"/content/updated_books2.csv\")"
      ],
      "metadata": {
        "id": "ImKbXieufpVW"
      },
      "execution_count": null,
      "outputs": []
    },
    {
      "cell_type": "code",
      "source": [
        "books.head()"
      ],
      "metadata": {
        "colab": {
          "base_uri": "https://localhost:8080/",
          "height": 354
        },
        "id": "D5tt7ESMfylq",
        "outputId": "b3fd0aaa-de31-45e3-dff1-7b091f34c3fb"
      },
      "execution_count": null,
      "outputs": [
        {
          "output_type": "execute_result",
          "data": {
            "text/plain": [
              "   Unnamed: 0  Rating Reviews  \\\n",
              "0           2    3.33       0   \n",
              "1           7    4.15   1,817   \n",
              "2           8    3.87   2,093   \n",
              "3           9    4.62       0   \n",
              "4          20    4.22      27   \n",
              "\n",
              "                                          Book_title  \\\n",
              "0       Responsive Web Design Overview For Beginners   \n",
              "1  Algorithms to Live By: The Computer Science of...   \n",
              "2  Weapons of Math Destruction: How Big Data Incr...   \n",
              "3  ZX Spectrum Games Code Club: Twenty fun games ...   \n",
              "4  Debugging: The 9 Indispensable Rules for Findi...   \n",
              "\n",
              "                                         Description  Number_Of_Pages  \\\n",
              "0  In Responsive Web Design Overview For Beginner...               50   \n",
              "1  A fascinating exploration of how insights from...              368   \n",
              "2  A former Wall Street quant sounds an alarm on ...              259   \n",
              "3  This book is ideal for ZX Spectrum fans and be...              128   \n",
              "4  When the pressure is on to root out an elusive...              192   \n",
              "\n",
              "             Type      Price  \n",
              "0  Kindle Edition  11.267647  \n",
              "1       Hardcover  14.364706  \n",
              "2       Hardcover  14.502941  \n",
              "3       Paperback  14.641176  \n",
              "4       Paperback  17.491176  "
            ],
            "text/html": [
              "\n",
              "  <div id=\"df-653578f1-c009-4371-b582-6cc96f22678b\">\n",
              "    <div class=\"colab-df-container\">\n",
              "      <div>\n",
              "<style scoped>\n",
              "    .dataframe tbody tr th:only-of-type {\n",
              "        vertical-align: middle;\n",
              "    }\n",
              "\n",
              "    .dataframe tbody tr th {\n",
              "        vertical-align: top;\n",
              "    }\n",
              "\n",
              "    .dataframe thead th {\n",
              "        text-align: right;\n",
              "    }\n",
              "</style>\n",
              "<table border=\"1\" class=\"dataframe\">\n",
              "  <thead>\n",
              "    <tr style=\"text-align: right;\">\n",
              "      <th></th>\n",
              "      <th>Unnamed: 0</th>\n",
              "      <th>Rating</th>\n",
              "      <th>Reviews</th>\n",
              "      <th>Book_title</th>\n",
              "      <th>Description</th>\n",
              "      <th>Number_Of_Pages</th>\n",
              "      <th>Type</th>\n",
              "      <th>Price</th>\n",
              "    </tr>\n",
              "  </thead>\n",
              "  <tbody>\n",
              "    <tr>\n",
              "      <th>0</th>\n",
              "      <td>2</td>\n",
              "      <td>3.33</td>\n",
              "      <td>0</td>\n",
              "      <td>Responsive Web Design Overview For Beginners</td>\n",
              "      <td>In Responsive Web Design Overview For Beginner...</td>\n",
              "      <td>50</td>\n",
              "      <td>Kindle Edition</td>\n",
              "      <td>11.267647</td>\n",
              "    </tr>\n",
              "    <tr>\n",
              "      <th>1</th>\n",
              "      <td>7</td>\n",
              "      <td>4.15</td>\n",
              "      <td>1,817</td>\n",
              "      <td>Algorithms to Live By: The Computer Science of...</td>\n",
              "      <td>A fascinating exploration of how insights from...</td>\n",
              "      <td>368</td>\n",
              "      <td>Hardcover</td>\n",
              "      <td>14.364706</td>\n",
              "    </tr>\n",
              "    <tr>\n",
              "      <th>2</th>\n",
              "      <td>8</td>\n",
              "      <td>3.87</td>\n",
              "      <td>2,093</td>\n",
              "      <td>Weapons of Math Destruction: How Big Data Incr...</td>\n",
              "      <td>A former Wall Street quant sounds an alarm on ...</td>\n",
              "      <td>259</td>\n",
              "      <td>Hardcover</td>\n",
              "      <td>14.502941</td>\n",
              "    </tr>\n",
              "    <tr>\n",
              "      <th>3</th>\n",
              "      <td>9</td>\n",
              "      <td>4.62</td>\n",
              "      <td>0</td>\n",
              "      <td>ZX Spectrum Games Code Club: Twenty fun games ...</td>\n",
              "      <td>This book is ideal for ZX Spectrum fans and be...</td>\n",
              "      <td>128</td>\n",
              "      <td>Paperback</td>\n",
              "      <td>14.641176</td>\n",
              "    </tr>\n",
              "    <tr>\n",
              "      <th>4</th>\n",
              "      <td>20</td>\n",
              "      <td>4.22</td>\n",
              "      <td>27</td>\n",
              "      <td>Debugging: The 9 Indispensable Rules for Findi...</td>\n",
              "      <td>When the pressure is on to root out an elusive...</td>\n",
              "      <td>192</td>\n",
              "      <td>Paperback</td>\n",
              "      <td>17.491176</td>\n",
              "    </tr>\n",
              "  </tbody>\n",
              "</table>\n",
              "</div>\n",
              "      <button class=\"colab-df-convert\" onclick=\"convertToInteractive('df-653578f1-c009-4371-b582-6cc96f22678b')\"\n",
              "              title=\"Convert this dataframe to an interactive table.\"\n",
              "              style=\"display:none;\">\n",
              "        \n",
              "  <svg xmlns=\"http://www.w3.org/2000/svg\" height=\"24px\"viewBox=\"0 0 24 24\"\n",
              "       width=\"24px\">\n",
              "    <path d=\"M0 0h24v24H0V0z\" fill=\"none\"/>\n",
              "    <path d=\"M18.56 5.44l.94 2.06.94-2.06 2.06-.94-2.06-.94-.94-2.06-.94 2.06-2.06.94zm-11 1L8.5 8.5l.94-2.06 2.06-.94-2.06-.94L8.5 2.5l-.94 2.06-2.06.94zm10 10l.94 2.06.94-2.06 2.06-.94-2.06-.94-.94-2.06-.94 2.06-2.06.94z\"/><path d=\"M17.41 7.96l-1.37-1.37c-.4-.4-.92-.59-1.43-.59-.52 0-1.04.2-1.43.59L10.3 9.45l-7.72 7.72c-.78.78-.78 2.05 0 2.83L4 21.41c.39.39.9.59 1.41.59.51 0 1.02-.2 1.41-.59l7.78-7.78 2.81-2.81c.8-.78.8-2.07 0-2.86zM5.41 20L4 18.59l7.72-7.72 1.47 1.35L5.41 20z\"/>\n",
              "  </svg>\n",
              "      </button>\n",
              "      \n",
              "  <style>\n",
              "    .colab-df-container {\n",
              "      display:flex;\n",
              "      flex-wrap:wrap;\n",
              "      gap: 12px;\n",
              "    }\n",
              "\n",
              "    .colab-df-convert {\n",
              "      background-color: #E8F0FE;\n",
              "      border: none;\n",
              "      border-radius: 50%;\n",
              "      cursor: pointer;\n",
              "      display: none;\n",
              "      fill: #1967D2;\n",
              "      height: 32px;\n",
              "      padding: 0 0 0 0;\n",
              "      width: 32px;\n",
              "    }\n",
              "\n",
              "    .colab-df-convert:hover {\n",
              "      background-color: #E2EBFA;\n",
              "      box-shadow: 0px 1px 2px rgba(60, 64, 67, 0.3), 0px 1px 3px 1px rgba(60, 64, 67, 0.15);\n",
              "      fill: #174EA6;\n",
              "    }\n",
              "\n",
              "    [theme=dark] .colab-df-convert {\n",
              "      background-color: #3B4455;\n",
              "      fill: #D2E3FC;\n",
              "    }\n",
              "\n",
              "    [theme=dark] .colab-df-convert:hover {\n",
              "      background-color: #434B5C;\n",
              "      box-shadow: 0px 1px 3px 1px rgba(0, 0, 0, 0.15);\n",
              "      filter: drop-shadow(0px 1px 2px rgba(0, 0, 0, 0.3));\n",
              "      fill: #FFFFFF;\n",
              "    }\n",
              "  </style>\n",
              "\n",
              "      <script>\n",
              "        const buttonEl =\n",
              "          document.querySelector('#df-653578f1-c009-4371-b582-6cc96f22678b button.colab-df-convert');\n",
              "        buttonEl.style.display =\n",
              "          google.colab.kernel.accessAllowed ? 'block' : 'none';\n",
              "\n",
              "        async function convertToInteractive(key) {\n",
              "          const element = document.querySelector('#df-653578f1-c009-4371-b582-6cc96f22678b');\n",
              "          const dataTable =\n",
              "            await google.colab.kernel.invokeFunction('convertToInteractive',\n",
              "                                                     [key], {});\n",
              "          if (!dataTable) return;\n",
              "\n",
              "          const docLinkHtml = 'Like what you see? Visit the ' +\n",
              "            '<a target=\"_blank\" href=https://colab.research.google.com/notebooks/data_table.ipynb>data table notebook</a>'\n",
              "            + ' to learn more about interactive tables.';\n",
              "          element.innerHTML = '';\n",
              "          dataTable['output_type'] = 'display_data';\n",
              "          await google.colab.output.renderOutput(dataTable, element);\n",
              "          const docLink = document.createElement('div');\n",
              "          docLink.innerHTML = docLinkHtml;\n",
              "          element.appendChild(docLink);\n",
              "        }\n",
              "      </script>\n",
              "    </div>\n",
              "  </div>\n",
              "  "
            ]
          },
          "metadata": {},
          "execution_count": 5
        }
      ]
    },
    {
      "cell_type": "code",
      "source": [
        "books.loc[books['Book_title'] == 'Ship It!', 'Description'].iloc[0]"
      ],
      "metadata": {
        "colab": {
          "base_uri": "https://localhost:8080/",
          "height": 70
        },
        "id": "lXwn4t_mATub",
        "outputId": "0ab6bd69-b28f-4d0d-cef5-0452e5d26217"
      },
      "execution_count": null,
      "outputs": [
        {
          "output_type": "execute_result",
          "data": {
            "text/plain": [
              "\"Ship It! is a collection of tips that show the tools and techniques a successful project team has to use, and how to use them well. You'll get quick, easy-to-follow advice on modern practices: which to use, and when they should be applied. This book avoids current fashion trends and marketing hype; instead, readers find page after page of solid advice, all tried and tested\\n\\n\\n\\n\\n\\n\\n\\n\\n...more\""
            ],
            "application/vnd.google.colaboratory.intrinsic+json": {
              "type": "string"
            }
          },
          "metadata": {},
          "execution_count": 15
        }
      ]
    },
    {
      "cell_type": "code",
      "source": [
        "#I am just intrested in Book_title & Description features >>>> going to extract a set of keywords, from them i need to extract the list of skills and maybe and the topics that the book is covering"
      ],
      "metadata": {
        "id": "trHpXSyD6ttF"
      },
      "execution_count": null,
      "outputs": []
    },
    {
      "cell_type": "code",
      "source": [
        "#Clean the data before any extraction or scraping process, The Data is already cleaned and good!"
      ],
      "metadata": {
        "id": "wIfX1umjonB0"
      },
      "execution_count": null,
      "outputs": []
    },
    {
      "cell_type": "code",
      "source": [
        "len(books)"
      ],
      "metadata": {
        "colab": {
          "base_uri": "https://localhost:8080/"
        },
        "id": "zplXB0-0pK5O",
        "outputId": "d8fb1f96-92c9-4871-ffab-6e7742a4ec49"
      },
      "execution_count": null,
      "outputs": [
        {
          "output_type": "execute_result",
          "data": {
            "text/plain": [
              "271"
            ]
          },
          "metadata": {},
          "execution_count": 7
        }
      ]
    },
    {
      "cell_type": "code",
      "source": [
        "books.isna().sum()"
      ],
      "metadata": {
        "colab": {
          "base_uri": "https://localhost:8080/"
        },
        "id": "vRLfLyN60msF",
        "outputId": "daa8ccf3-f9ec-46ba-bb77-bfe53f918f13"
      },
      "execution_count": null,
      "outputs": [
        {
          "output_type": "execute_result",
          "data": {
            "text/plain": [
              "Rating             0\n",
              "Reviews            0\n",
              "Book_title         0\n",
              "Description        0\n",
              "Number_Of_Pages    0\n",
              "Type               0\n",
              "Price              0\n",
              "dtype: int64"
            ]
          },
          "metadata": {},
          "execution_count": 8
        }
      ]
    },
    {
      "cell_type": "code",
      "source": [
        "duplicated_cols = books.columns.duplicated()\n",
        "duplicated_cols"
      ],
      "metadata": {
        "colab": {
          "base_uri": "https://localhost:8080/"
        },
        "id": "71wCowFM2yth",
        "outputId": "e99331f6-0343-4223-eeff-8424c90bfa09"
      },
      "execution_count": null,
      "outputs": [
        {
          "output_type": "execute_result",
          "data": {
            "text/plain": [
              "array([False, False, False, False, False, False, False])"
            ]
          },
          "metadata": {},
          "execution_count": 9
        }
      ]
    },
    {
      "cell_type": "code",
      "source": [
        "#keep title & description\n",
        "books = books[['Book_title', 'Description']]"
      ],
      "metadata": {
        "id": "eiPcJ2X_3d5n"
      },
      "execution_count": null,
      "outputs": []
    },
    {
      "cell_type": "code",
      "source": [
        "books.to_csv('books.csv')"
      ],
      "metadata": {
        "id": "I1QqiTNXpMdp"
      },
      "execution_count": null,
      "outputs": []
    },
    {
      "cell_type": "code",
      "source": [
        "books.head()"
      ],
      "metadata": {
        "colab": {
          "base_uri": "https://localhost:8080/",
          "height": 206
        },
        "id": "xm5Ylp6d-ztD",
        "outputId": "7101a91f-99c1-48c6-cf78-4f85fbd5727c"
      },
      "execution_count": null,
      "outputs": [
        {
          "output_type": "execute_result",
          "data": {
            "text/plain": [
              "                                          Book_title  \\\n",
              "0       Responsive Web Design Overview For Beginners   \n",
              "1  Algorithms to Live By: The Computer Science of...   \n",
              "2  Weapons of Math Destruction: How Big Data Incr...   \n",
              "3  ZX Spectrum Games Code Club: Twenty fun games ...   \n",
              "4  Debugging: The 9 Indispensable Rules for Findi...   \n",
              "\n",
              "                                         Description  \n",
              "0  In Responsive Web Design Overview For Beginner...  \n",
              "1  A fascinating exploration of how insights from...  \n",
              "2  A former Wall Street quant sounds an alarm on ...  \n",
              "3  This book is ideal for ZX Spectrum fans and be...  \n",
              "4  When the pressure is on to root out an elusive...  "
            ],
            "text/html": [
              "\n",
              "  <div id=\"df-deae7b27-ff59-4fe4-b2bf-292ecba5fa90\">\n",
              "    <div class=\"colab-df-container\">\n",
              "      <div>\n",
              "<style scoped>\n",
              "    .dataframe tbody tr th:only-of-type {\n",
              "        vertical-align: middle;\n",
              "    }\n",
              "\n",
              "    .dataframe tbody tr th {\n",
              "        vertical-align: top;\n",
              "    }\n",
              "\n",
              "    .dataframe thead th {\n",
              "        text-align: right;\n",
              "    }\n",
              "</style>\n",
              "<table border=\"1\" class=\"dataframe\">\n",
              "  <thead>\n",
              "    <tr style=\"text-align: right;\">\n",
              "      <th></th>\n",
              "      <th>Book_title</th>\n",
              "      <th>Description</th>\n",
              "    </tr>\n",
              "  </thead>\n",
              "  <tbody>\n",
              "    <tr>\n",
              "      <th>0</th>\n",
              "      <td>Responsive Web Design Overview For Beginners</td>\n",
              "      <td>In Responsive Web Design Overview For Beginner...</td>\n",
              "    </tr>\n",
              "    <tr>\n",
              "      <th>1</th>\n",
              "      <td>Algorithms to Live By: The Computer Science of...</td>\n",
              "      <td>A fascinating exploration of how insights from...</td>\n",
              "    </tr>\n",
              "    <tr>\n",
              "      <th>2</th>\n",
              "      <td>Weapons of Math Destruction: How Big Data Incr...</td>\n",
              "      <td>A former Wall Street quant sounds an alarm on ...</td>\n",
              "    </tr>\n",
              "    <tr>\n",
              "      <th>3</th>\n",
              "      <td>ZX Spectrum Games Code Club: Twenty fun games ...</td>\n",
              "      <td>This book is ideal for ZX Spectrum fans and be...</td>\n",
              "    </tr>\n",
              "    <tr>\n",
              "      <th>4</th>\n",
              "      <td>Debugging: The 9 Indispensable Rules for Findi...</td>\n",
              "      <td>When the pressure is on to root out an elusive...</td>\n",
              "    </tr>\n",
              "  </tbody>\n",
              "</table>\n",
              "</div>\n",
              "      <button class=\"colab-df-convert\" onclick=\"convertToInteractive('df-deae7b27-ff59-4fe4-b2bf-292ecba5fa90')\"\n",
              "              title=\"Convert this dataframe to an interactive table.\"\n",
              "              style=\"display:none;\">\n",
              "        \n",
              "  <svg xmlns=\"http://www.w3.org/2000/svg\" height=\"24px\"viewBox=\"0 0 24 24\"\n",
              "       width=\"24px\">\n",
              "    <path d=\"M0 0h24v24H0V0z\" fill=\"none\"/>\n",
              "    <path d=\"M18.56 5.44l.94 2.06.94-2.06 2.06-.94-2.06-.94-.94-2.06-.94 2.06-2.06.94zm-11 1L8.5 8.5l.94-2.06 2.06-.94-2.06-.94L8.5 2.5l-.94 2.06-2.06.94zm10 10l.94 2.06.94-2.06 2.06-.94-2.06-.94-.94-2.06-.94 2.06-2.06.94z\"/><path d=\"M17.41 7.96l-1.37-1.37c-.4-.4-.92-.59-1.43-.59-.52 0-1.04.2-1.43.59L10.3 9.45l-7.72 7.72c-.78.78-.78 2.05 0 2.83L4 21.41c.39.39.9.59 1.41.59.51 0 1.02-.2 1.41-.59l7.78-7.78 2.81-2.81c.8-.78.8-2.07 0-2.86zM5.41 20L4 18.59l7.72-7.72 1.47 1.35L5.41 20z\"/>\n",
              "  </svg>\n",
              "      </button>\n",
              "      \n",
              "  <style>\n",
              "    .colab-df-container {\n",
              "      display:flex;\n",
              "      flex-wrap:wrap;\n",
              "      gap: 12px;\n",
              "    }\n",
              "\n",
              "    .colab-df-convert {\n",
              "      background-color: #E8F0FE;\n",
              "      border: none;\n",
              "      border-radius: 50%;\n",
              "      cursor: pointer;\n",
              "      display: none;\n",
              "      fill: #1967D2;\n",
              "      height: 32px;\n",
              "      padding: 0 0 0 0;\n",
              "      width: 32px;\n",
              "    }\n",
              "\n",
              "    .colab-df-convert:hover {\n",
              "      background-color: #E2EBFA;\n",
              "      box-shadow: 0px 1px 2px rgba(60, 64, 67, 0.3), 0px 1px 3px 1px rgba(60, 64, 67, 0.15);\n",
              "      fill: #174EA6;\n",
              "    }\n",
              "\n",
              "    [theme=dark] .colab-df-convert {\n",
              "      background-color: #3B4455;\n",
              "      fill: #D2E3FC;\n",
              "    }\n",
              "\n",
              "    [theme=dark] .colab-df-convert:hover {\n",
              "      background-color: #434B5C;\n",
              "      box-shadow: 0px 1px 3px 1px rgba(0, 0, 0, 0.15);\n",
              "      filter: drop-shadow(0px 1px 2px rgba(0, 0, 0, 0.3));\n",
              "      fill: #FFFFFF;\n",
              "    }\n",
              "  </style>\n",
              "\n",
              "      <script>\n",
              "        const buttonEl =\n",
              "          document.querySelector('#df-deae7b27-ff59-4fe4-b2bf-292ecba5fa90 button.colab-df-convert');\n",
              "        buttonEl.style.display =\n",
              "          google.colab.kernel.accessAllowed ? 'block' : 'none';\n",
              "\n",
              "        async function convertToInteractive(key) {\n",
              "          const element = document.querySelector('#df-deae7b27-ff59-4fe4-b2bf-292ecba5fa90');\n",
              "          const dataTable =\n",
              "            await google.colab.kernel.invokeFunction('convertToInteractive',\n",
              "                                                     [key], {});\n",
              "          if (!dataTable) return;\n",
              "\n",
              "          const docLinkHtml = 'Like what you see? Visit the ' +\n",
              "            '<a target=\"_blank\" href=https://colab.research.google.com/notebooks/data_table.ipynb>data table notebook</a>'\n",
              "            + ' to learn more about interactive tables.';\n",
              "          element.innerHTML = '';\n",
              "          dataTable['output_type'] = 'display_data';\n",
              "          await google.colab.output.renderOutput(dataTable, element);\n",
              "          const docLink = document.createElement('div');\n",
              "          docLink.innerHTML = docLinkHtml;\n",
              "          element.appendChild(docLink);\n",
              "        }\n",
              "      </script>\n",
              "    </div>\n",
              "  </div>\n",
              "  "
            ]
          },
          "metadata": {},
          "execution_count": 7
        }
      ]
    },
    {
      "cell_type": "code",
      "source": [
        "text=books.loc[books['Book_title']== 'Introduction to Functional Programming', 'Description'].iloc[0]\n",
        "text"
      ],
      "metadata": {
        "colab": {
          "base_uri": "https://localhost:8080/",
          "height": 70
        },
        "id": "amYstRa-w70Q",
        "outputId": "cd58b2a6-2691-4609-a427-416c675ebadf"
      },
      "execution_count": null,
      "outputs": [
        {
          "output_type": "execute_result",
          "data": {
            "text/plain": [
              "'After the success of the first edition, Introduction to Functional Programming using Haskell has been thoroughly updated and revised to provide a complete grounding in the principles and techniques of programming with functions. The second edition uses the popular language Haskell to express functional programs. There are new chapters on program optimisation, abstract data ...more'"
            ],
            "application/vnd.google.colaboratory.intrinsic+json": {
              "type": "string"
            }
          },
          "metadata": {},
          "execution_count": 79
        }
      ]
    },
    {
      "cell_type": "code",
      "source": [
        "text2=books.loc[books['Book_title'] == 'The Psychology of Computer Programming', 'Description'].iloc[0]"
      ],
      "metadata": {
        "id": "pxIFVxZexI-N"
      },
      "execution_count": null,
      "outputs": []
    },
    {
      "cell_type": "code",
      "source": [
        "books.loc[books['Book_title'] == 'DIV, Grad, Curl, and All That: An Informal Text on Vector Calculus', 'Description'].iloc[0]"
      ],
      "metadata": {
        "colab": {
          "base_uri": "https://localhost:8080/",
          "height": 70
        },
        "id": "rALlU30ExWId",
        "outputId": "2f65d4a2-2c01-4cb8-87ee-d0ade57be4e6"
      },
      "execution_count": null,
      "outputs": [
        {
          "output_type": "execute_result",
          "data": {
            "text/plain": [
              "'Since the publication of the First Edition over thirty years ago, Div, Grad, Curl, and All That has been widely renowned for its clear and concise coverage of vector calculus, helping science and engineering students gain a thorough understanding of gradient, curl, and Laplacian operators without required knowledge of advanced mathematics.'"
            ],
            "application/vnd.google.colaboratory.intrinsic+json": {
              "type": "string"
            }
          },
          "metadata": {},
          "execution_count": 78
        }
      ]
    },
    {
      "cell_type": "code",
      "source": [
        "text=books.loc[books['Book_title'] == 'Make Your Own Neural Network', 'Description'].iloc[0]\n",
        "text"
      ],
      "metadata": {
        "colab": {
          "base_uri": "https://localhost:8080/",
          "height": 70
        },
        "id": "rTvUQ936xvi8",
        "outputId": "ef6222c4-0027-4c05-aff5-0435d8f2593c"
      },
      "execution_count": null,
      "outputs": [
        {
          "output_type": "execute_result",
          "data": {
            "text/plain": [
              "'A gentle journey through the mathematics of neural networks, and making your own using the Python computer language.\\n\\nNeural networks are a key element of deep learning and artificial intelligence, which today is capable of some truly impressive feats. Yet too few really understand how neural networks actually work.\\n\\nThis guide will take you on a fun and unhurried journey,\\n\\n\\n\\n\\n\\n\\n\\n\\n\\n\\n\\n\\n\\n\\n\\n...more'"
            ],
            "application/vnd.google.colaboratory.intrinsic+json": {
              "type": "string"
            }
          },
          "metadata": {},
          "execution_count": 45
        }
      ]
    },
    {
      "cell_type": "code",
      "source": [
        "#methods to extract keywords"
      ],
      "metadata": {
        "id": "CaCneB5n3mPX"
      },
      "execution_count": null,
      "outputs": []
    },
    {
      "cell_type": "code",
      "source": [
        "nltk.download('punkt')"
      ],
      "metadata": {
        "colab": {
          "base_uri": "https://localhost:8080/"
        },
        "id": "ClzlucUoCOxQ",
        "outputId": "7a2e53eb-af62-4611-81ae-f154af09112e"
      },
      "execution_count": null,
      "outputs": [
        {
          "output_type": "stream",
          "name": "stderr",
          "text": [
            "[nltk_data] Downloading package punkt to /root/nltk_data...\n",
            "[nltk_data]   Unzipping tokenizers/punkt.zip.\n"
          ]
        },
        {
          "output_type": "execute_result",
          "data": {
            "text/plain": [
              "True"
            ]
          },
          "metadata": {},
          "execution_count": 8
        }
      ]
    },
    {
      "cell_type": "code",
      "source": [
        "!pip install rake-nltk"
      ],
      "metadata": {
        "colab": {
          "base_uri": "https://localhost:8080/"
        },
        "id": "_Z7b1FIC0AKQ",
        "outputId": "c33eacf0-ce81-4976-e980-2e37f0fa4c75"
      },
      "execution_count": null,
      "outputs": [
        {
          "output_type": "stream",
          "name": "stdout",
          "text": [
            "Looking in indexes: https://pypi.org/simple, https://us-python.pkg.dev/colab-wheels/public/simple/\n",
            "Collecting rake-nltk\n",
            "  Downloading rake_nltk-1.0.6-py3-none-any.whl (9.1 kB)\n",
            "Requirement already satisfied: nltk<4.0.0,>=3.6.2 in /usr/local/lib/python3.10/dist-packages (from rake-nltk) (3.8.1)\n",
            "Requirement already satisfied: click in /usr/local/lib/python3.10/dist-packages (from nltk<4.0.0,>=3.6.2->rake-nltk) (8.1.3)\n",
            "Requirement already satisfied: joblib in /usr/local/lib/python3.10/dist-packages (from nltk<4.0.0,>=3.6.2->rake-nltk) (1.2.0)\n",
            "Requirement already satisfied: regex>=2021.8.3 in /usr/local/lib/python3.10/dist-packages (from nltk<4.0.0,>=3.6.2->rake-nltk) (2022.10.31)\n",
            "Requirement already satisfied: tqdm in /usr/local/lib/python3.10/dist-packages (from nltk<4.0.0,>=3.6.2->rake-nltk) (4.65.0)\n",
            "Installing collected packages: rake-nltk\n",
            "Successfully installed rake-nltk-1.0.6\n"
          ]
        }
      ]
    },
    {
      "cell_type": "code",
      "source": [
        "from rake_nltk import Rake\n",
        "r = Rake()\n",
        "r.extract_keywords_from_text(text)\n",
        "r.get_ranked_phrases_with_scores()[:10]"
      ],
      "metadata": {
        "colab": {
          "base_uri": "https://localhost:8080/"
        },
        "id": "N1Ay2vya02CW",
        "outputId": "fa028195-5f80-47e8-e5ba-847c81cee3cd"
      },
      "execution_count": null,
      "outputs": [
        {
          "output_type": "execute_result",
          "data": {
            "text/plain": [
              "[(13.5, 'functional programming using haskell'),\n",
              " (9.5, 'popular language haskell'),\n",
              " (9.5, 'express functional programs'),\n",
              " (9.0, 'abstract data ...'),\n",
              " (8.5, 'second edition uses'),\n",
              " (4.5, 'first edition'),\n",
              " (4.0, 'thoroughly updated'),\n",
              " (4.0, 'program optimisation'),\n",
              " (4.0, 'new chapters'),\n",
              " (4.0, 'complete grounding')]"
            ]
          },
          "metadata": {},
          "execution_count": 67
        }
      ]
    },
    {
      "cell_type": "code",
      "source": [
        "!pip install git+https://github.com/LIAAD/yake"
      ],
      "metadata": {
        "colab": {
          "base_uri": "https://localhost:8080/"
        },
        "id": "_KXejjaP4OHw",
        "outputId": "afef28c1-25cc-4daa-b3aa-f82f509690b3"
      },
      "execution_count": null,
      "outputs": [
        {
          "output_type": "stream",
          "name": "stdout",
          "text": [
            "Looking in indexes: https://pypi.org/simple, https://us-python.pkg.dev/colab-wheels/public/simple/\n",
            "Collecting git+https://github.com/LIAAD/yake\n",
            "  Cloning https://github.com/LIAAD/yake to /tmp/pip-req-build-15n5vs3l\n",
            "  Running command git clone --filter=blob:none --quiet https://github.com/LIAAD/yake /tmp/pip-req-build-15n5vs3l\n",
            "  Resolved https://github.com/LIAAD/yake to commit 374fc1c1c19eb080d5b6115cbb8d4a4324392e54\n",
            "  Preparing metadata (setup.py) ... \u001b[?25l\u001b[?25hdone\n",
            "Requirement already satisfied: tabulate in /usr/local/lib/python3.10/dist-packages (from yake==0.4.8) (0.8.10)\n",
            "Requirement already satisfied: click>=6.0 in /usr/local/lib/python3.10/dist-packages (from yake==0.4.8) (8.1.3)\n",
            "Requirement already satisfied: numpy in /usr/local/lib/python3.10/dist-packages (from yake==0.4.8) (1.22.4)\n",
            "Collecting segtok (from yake==0.4.8)\n",
            "  Downloading segtok-1.5.11-py3-none-any.whl (24 kB)\n",
            "Requirement already satisfied: networkx in /usr/local/lib/python3.10/dist-packages (from yake==0.4.8) (3.1)\n",
            "Collecting jellyfish (from yake==0.4.8)\n",
            "  Downloading jellyfish-0.11.2-cp310-cp310-manylinux_2_17_x86_64.manylinux2014_x86_64.whl (1.2 MB)\n",
            "\u001b[2K     \u001b[90m━━━━━━━━━━━━━━━━━━━━━━━━━━━━━━━━━━━━━━━━\u001b[0m \u001b[32m1.2/1.2 MB\u001b[0m \u001b[31m28.8 MB/s\u001b[0m eta \u001b[36m0:00:00\u001b[0m\n",
            "\u001b[?25hRequirement already satisfied: regex in /usr/local/lib/python3.10/dist-packages (from segtok->yake==0.4.8) (2022.10.31)\n",
            "Building wheels for collected packages: yake\n",
            "  Building wheel for yake (setup.py) ... \u001b[?25l\u001b[?25hdone\n",
            "  Created wheel for yake: filename=yake-0.4.8-py2.py3-none-any.whl size=62575 sha256=ceb9e2b73c80f3c6b117045b7638c69bee601bbf0657990b7b6d9b31efdfa0f7\n",
            "  Stored in directory: /tmp/pip-ephem-wheel-cache-ldzhu3v7/wheels/10/9d/33/6a3358fd876c3d7c6c5c139d1496eb4b1618c7d0e15c375584\n",
            "Successfully built yake\n",
            "Installing collected packages: segtok, jellyfish, yake\n",
            "Successfully installed jellyfish-0.11.2 segtok-1.5.11 yake-0.4.8\n"
          ]
        }
      ]
    },
    {
      "cell_type": "code",
      "source": [
        "import yake\n",
        "def get_keywords_yake(docs):\n",
        "    y = yake.KeywordExtractor(lan='en',          #language\n",
        "                             n = 3,              #n-gram size\n",
        "                             dedupLim = 0.9,     #deduplicationthresold\n",
        "                             dedupFunc = 'seqm', #deduplication algorithm\n",
        "                             windowsSize = 1,\n",
        "                             top = 10,           #number of keys\n",
        "                             features=None)\n",
        "\n",
        "    keywords = y.extract_keywords(docs)\n",
        "    return keywords"
      ],
      "metadata": {
        "id": "8oV-xe_44S9i"
      },
      "execution_count": null,
      "outputs": []
    },
    {
      "cell_type": "code",
      "source": [
        "#add new column to the dataframe\n",
        "books['Keywords_score'] = books['Description'].apply(lambda x: get_keywords_yake(x))"
      ],
      "metadata": {
        "id": "dRFjiu5YKtdf"
      },
      "execution_count": null,
      "outputs": []
    },
    {
      "cell_type": "code",
      "source": [
        "books['Keywords_List'] = books['Book_title'].apply(lambda x: [t[0] for t in get_keywords_yake(x)])#without the score"
      ],
      "metadata": {
        "id": "3iXJbNrLTfp-"
      },
      "execution_count": null,
      "outputs": []
    },
    {
      "cell_type": "code",
      "source": [
        "books['Keywords']=books['Keywords_List'].apply(lambda x:[\",\".join(i) for i in x])"
      ],
      "metadata": {
        "id": "K6LZ70kPt79E"
      },
      "execution_count": null,
      "outputs": []
    },
    {
      "cell_type": "code",
      "source": [
        "books.to_csv('books_keywords_new.csv')"
      ],
      "metadata": {
        "id": "bDQoabfEodgI"
      },
      "execution_count": null,
      "outputs": []
    },
    {
      "cell_type": "code",
      "source": [
        "books['Keywords']"
      ],
      "metadata": {
        "colab": {
          "base_uri": "https://localhost:8080/"
        },
        "id": "rmZWASSxQYzA",
        "outputId": "74fae920-a7d3-40c8-f043-77a1f5b0a364"
      },
      "execution_count": null,
      "outputs": [
        {
          "output_type": "execute_result",
          "data": {
            "text/plain": [
              "0      [improving writing skills, manual offers pract...\n",
              "1      [Chaos and Genius, James Gleick, sellers Chaos...\n",
              "2      [Responsive Web Design, Web Design Overview, W...\n",
              "3      [Kevin Mitnick plaque, Kevin Mitnick, Mitnick ...\n",
              "4      [Coach John Wooden, seasoned Silicon Valley, S...\n",
              "                             ...                        \n",
              "266    [Game Engine Design, Game Engine Architecture,...\n",
              "267    [Database Systems, comprehensive introduction,...\n",
              "268    [Knuth classic work, Knuth classic, classic wo...\n",
              "269    [today software developers, profound personal ...\n",
              "270    [Humphrey popular methods, Capability Maturity...\n",
              "Name: Keywords, Length: 271, dtype: object"
            ]
          },
          "metadata": {},
          "execution_count": 108
        }
      ]
    },
    {
      "cell_type": "code",
      "source": [
        "#!pip install git+https://github.com/boudinfl/pke.git"
      ],
      "metadata": {
        "id": "ZDpEqoHJXrml"
      },
      "execution_count": null,
      "outputs": []
    },
    {
      "cell_type": "code",
      "source": [
        "import pke"
      ],
      "metadata": {
        "id": "DzLsQkguXm4L"
      },
      "execution_count": null,
      "outputs": []
    },
    {
      "cell_type": "code",
      "source": [
        "# define the set of valid Part-of-Speeches\n",
        "pos = {'NOUN', 'PROPN', 'ADJ'}\n",
        "\n",
        "# 1. create a SingleRank extractor.\n",
        "extractor = pke.unsupervised.SingleRank()\n",
        "\n",
        "# 2. load the content of the document.\n",
        "extractor.load_document(input=text,\n",
        "                        language='en',\n",
        "                        normalization=None)\n",
        "\n",
        "# 3. select the longest sequences of nouns and adjectives as candidates.\n",
        "extractor.candidate_selection(pos=pos)\n",
        "\n",
        "# 4. weight the candidates using the sum of their word's scores that are\n",
        "#    computed using random walk. In the graph, nodes are words of\n",
        "#    certain part-of-speech (nouns and adjectives) that are connected if\n",
        "#    they occur in a window of 10 words.\n",
        "extractor.candidate_weighting(window=10,\n",
        "                              pos=pos)\n",
        "\n",
        "# 5. get the 10-highest scored candidates as keyphrases\n",
        "keyphrases = extractor.get_n_best(n=10)"
      ],
      "metadata": {
        "id": "MDuJJoahX2Rk"
      },
      "execution_count": null,
      "outputs": []
    },
    {
      "cell_type": "code",
      "source": [
        "keyphrases"
      ],
      "metadata": {
        "colab": {
          "base_uri": "https://localhost:8080/"
        },
        "id": "uybPaPNHZWQj",
        "outputId": "493ba57b-7dc2-46c3-c1f0-0e92788cec2c"
      },
      "execution_count": null,
      "outputs": [
        {
          "output_type": "execute_result",
          "data": {
            "text/plain": [
              "[('core di patterns', 0.1598151782706835),\n",
              " ('di frameworks', 0.12734803329836783),\n",
              " ('plain c #', 0.09407747503403986),\n",
              " ('dependency injection', 0.09123518752243083),\n",
              " ('standard microsoft technologies', 0.09042705106328197),\n",
              " ('di', 0.08921213620920232),\n",
              " ('jolt awards', 0.08012817986869421),\n",
              " ('asp.net mvc', 0.06861077092048437),\n",
              " ('castle windsor', 0.06823937511397767),\n",
              " ('structure map', 0.059289826672230574)]"
            ]
          },
          "metadata": {},
          "execution_count": 55
        }
      ]
    },
    {
      "cell_type": "code",
      "source": [
        "books['Description'] = books['Description'].apply(lambda x: x.lower())"
      ],
      "metadata": {
        "id": "pvlyBIpP_ggG"
      },
      "execution_count": null,
      "outputs": []
    },
    {
      "cell_type": "code",
      "source": [
        "books['Description'] = books['Description'].apply(lambda x: x.translate(str.maketrans('', '', string.punctuation)))"
      ],
      "metadata": {
        "id": "Nsk_hFZK_v0n"
      },
      "execution_count": null,
      "outputs": []
    },
    {
      "cell_type": "code",
      "source": [
        " nltk.download('wordnet')"
      ],
      "metadata": {
        "colab": {
          "base_uri": "https://localhost:8080/"
        },
        "id": "PuWPg-VWGCP9",
        "outputId": "929e0374-26f9-449b-9204-761568ae0c58"
      },
      "execution_count": null,
      "outputs": [
        {
          "output_type": "stream",
          "name": "stderr",
          "text": [
            "[nltk_data] Downloading package wordnet to /root/nltk_data...\n"
          ]
        },
        {
          "output_type": "execute_result",
          "data": {
            "text/plain": [
              "True"
            ]
          },
          "metadata": {},
          "execution_count": 27
        }
      ]
    },
    {
      "cell_type": "code",
      "source": [
        "stop_words = set(stopwords.words('english'))\n",
        "books['Description'] = books['Description'].apply(lambda x: ' '.join([word for word in word_tokenize(x) if word not in stop_words]))"
      ],
      "metadata": {
        "id": "YGHI1oSvAKEd"
      },
      "execution_count": null,
      "outputs": []
    },
    {
      "cell_type": "code",
      "source": [
        "lemmatizer = WordNetLemmatizer()\n",
        "books['Description'] = books['Description'].apply(lambda x: ' '.join([lemmatizer.lemmatize(word) for word in word_tokenize(x)]))\n",
        "stemmer = PorterStemmer()\n",
        "books['Description'] = books['Description'].apply(lambda x: ' '.join([stemmer.stem(word) for word in word_tokenize(x)]))"
      ],
      "metadata": {
        "id": "GXXbWy1N-2jf"
      },
      "execution_count": null,
      "outputs": []
    },
    {
      "cell_type": "code",
      "source": [
        "books['Description']"
      ],
      "metadata": {
        "colab": {
          "base_uri": "https://localhost:8080/"
        },
        "id": "fAPaW2-mBd9K",
        "outputId": "1fcb900e-e0bb-4511-f77d-34e3de340c0a"
      },
      "execution_count": null,
      "outputs": [
        {
          "output_type": "execute_result",
          "data": {
            "text/plain": [
              "0      style manual offers practical advice improving...\n",
              "1      james gleick author best sellers chaos genius ...\n",
              "2      responsive web design overview beginners youll...\n",
              "3      hall fame shame computer hackers kevin mitnick...\n",
              "4      eric schmidt jonathan rosenberg came google se...\n",
              "                             ...                        \n",
              "266    dave eberlys 3d game engine design first profe...\n",
              "267    continuing eighth edition introduction databas...\n",
              "268    knuths classic work widely acclaimed one influ...\n",
              "269    bible fundamental algorithms work taught many ...\n",
              "270    designed help individual programmers develop s...\n",
              "Name: Description, Length: 271, dtype: object"
            ]
          },
          "metadata": {},
          "execution_count": 12
        }
      ]
    },
    {
      "cell_type": "code",
      "source": [
        "#KeyBERT\n",
        "#!pip install keybert"
      ],
      "metadata": {
        "id": "vhN1iRLv65XL"
      },
      "execution_count": null,
      "outputs": []
    },
    {
      "cell_type": "code",
      "source": [
        "from keybert import KeyBERT"
      ],
      "metadata": {
        "id": "iWH9aLVk7HsU"
      },
      "execution_count": null,
      "outputs": []
    },
    {
      "cell_type": "code",
      "source": [
        "doc"
      ],
      "metadata": {
        "colab": {
          "base_uri": "https://localhost:8080/",
          "height": 70
        },
        "id": "tUMxu-j58Fgn",
        "outputId": "29f626a7-6a80-4e40-b2c7-1bf6a4c7e948"
      },
      "execution_count": null,
      "outputs": [
        {
          "output_type": "execute_result",
          "data": {
            "text/plain": [
              "\"In Responsive Web Design Overview For Beginners, you'll get an overview of what to expect when building a responsive website.\\n\\nYou'll learn about all of the following:\\nResponsive Web Design Overview\\nUsability of Smaller Screens\\nWhy Plugins Aren't the Solution\\nWhy a Responsive Web Design Theme May Not Be Best for Your Existing Website\\nRisks Involved with Responsive Web Design F\\n\\n\\n\\n\\n\\n\\n\\n\\n\\n\\n\\n\\n\\n...more\""
            ],
            "application/vnd.google.colaboratory.intrinsic+json": {
              "type": "string"
            }
          },
          "metadata": {},
          "execution_count": 48
        }
      ]
    },
    {
      "cell_type": "code",
      "source": [
        "doc =books['Description'][2]\n",
        "kw_model = KeyBERT()\n",
        "keywords = kw_model.extract_keywords(doc)"
      ],
      "metadata": {
        "id": "f2aZN-VR7Qio"
      },
      "execution_count": null,
      "outputs": []
    },
    {
      "cell_type": "code",
      "source": [
        "keywords"
      ],
      "metadata": {
        "colab": {
          "base_uri": "https://localhost:8080/"
        },
        "id": "XZZZ1hIL8Bty",
        "outputId": "3451bb89-ca5d-4ab9-f13e-94c556515fb1"
      },
      "execution_count": null,
      "outputs": [
        {
          "output_type": "execute_result",
          "data": {
            "text/plain": [
              "[('responsive', 0.4274),\n",
              " ('usability', 0.3476),\n",
              " ('beginners', 0.2338),\n",
              " ('plugins', 0.2297),\n",
              " ('design', 0.2291)]"
            ]
          },
          "metadata": {},
          "execution_count": 49
        }
      ]
    },
    {
      "cell_type": "code",
      "source": [
        "stemmer = PorterStemmer()\n",
        "def extract_keywords(text):\n",
        "    tokens = word_tokenize(text.lower())\n",
        "    #keywords = [stemmer.stem(token) for token in tokens if token not in stop_words]\n",
        "    return list(set(tokens))"
      ],
      "metadata": {
        "id": "ACXYrvw1Clba"
      },
      "execution_count": null,
      "outputs": []
    },
    {
      "cell_type": "code",
      "source": [
        "books['keywords'] = books['Description'].apply(extract_keywords)"
      ],
      "metadata": {
        "id": "UwIGaQMPDa9-"
      },
      "execution_count": null,
      "outputs": []
    },
    {
      "cell_type": "code",
      "source": [
        "books['keywords'][9]"
      ],
      "metadata": {
        "colab": {
          "base_uri": "https://localhost:8080/"
        },
        "id": "gDLJ12xPDuB_",
        "outputId": "786e53f5-3dc0-45d1-c81d-5b7aa410e7c7"
      },
      "execution_count": null,
      "outputs": [
        {
          "output_type": "execute_result",
          "data": {
            "text/plain": [
              "['book',\n",
              " 'want',\n",
              " 'equipment',\n",
              " 'works',\n",
              " 'age',\n",
              " 'building',\n",
              " 'simple',\n",
              " '20',\n",
              " 'specifically',\n",
              " 'recreated',\n",
              " 'original',\n",
              " 'internet',\n",
              " 'practice',\n",
              " 'etc',\n",
              " 'mac',\n",
              " 'beginner',\n",
              " 'chrome',\n",
              " 'browsers',\n",
              " 'ideal',\n",
              " 'ff',\n",
              " 'fans',\n",
              " 'raspberry',\n",
              " 'zx',\n",
              " 'contains',\n",
              " 'game',\n",
              " 'wacky',\n",
              " 'linux',\n",
              " 'games',\n",
              " 'created',\n",
              " 'learn',\n",
              " 'special',\n",
              " 'arcade',\n",
              " 'coders',\n",
              " 'ideas',\n",
              " 'needed',\n",
              " 'windows',\n",
              " 'spectrum',\n",
              " 'classics',\n",
              " 'pi']"
            ]
          },
          "metadata": {},
          "execution_count": 32
        }
      ]
    },
    {
      "cell_type": "code",
      "source": [
        "'''\n",
        "term frequency-inverse document frequency\" (TF-IDF), which measures the importance\n",
        " of a word in a document relative to its importance in the entire corpus of documents.\n",
        "this maybe will not work, because we don'y have an entire corpus\n",
        "'''"
      ],
      "metadata": {
        "id": "3NQTLHPgEPgA"
      },
      "execution_count": null,
      "outputs": []
    },
    {
      "cell_type": "code",
      "source": [
        "#Machine learning method!!!!!!!!!!!!!!!!!!!!!"
      ],
      "metadata": {
        "id": "6uAnMTkWDbYV"
      },
      "execution_count": null,
      "outputs": []
    },
    {
      "cell_type": "code",
      "source": [
        "from sklearn.metrics import confusion_matrix\n",
        "from sklearn.feature_extraction.text import CountVectorizer\n",
        "from sklearn.feature_extraction.text import TfidfTransformer\n",
        "from sklearn.feature_extraction.text import TfidfVectorizer"
      ],
      "metadata": {
        "id": "vGK2_BwXGX3Q"
      },
      "execution_count": null,
      "outputs": []
    },
    {
      "cell_type": "code",
      "source": [
        "vectorizer = TfidfVectorizer()\n",
        "vectorized_data = vectorizer.fit_transform(books['Description'])"
      ],
      "metadata": {
        "id": "RpXYjMFWGMtg"
      },
      "execution_count": null,
      "outputs": []
    },
    {
      "cell_type": "code",
      "source": [
        "feature_names = vectorizer.get_feature_names_out()\n",
        "'''\n",
        "for i in feature_names:\n",
        "  print(i)\n",
        "'''"
      ],
      "metadata": {
        "id": "WHcfyB9qEroM",
        "outputId": "4139e6fe-73a8-4ab7-bc77-6fbf3023c750",
        "colab": {
          "base_uri": "https://localhost:8080/",
          "height": 35
        }
      },
      "execution_count": null,
      "outputs": [
        {
          "output_type": "execute_result",
          "data": {
            "text/plain": [
              "'\\nfor i in feature_names:\\n  print(i)\\n'"
            ],
            "application/vnd.google.colaboratory.intrinsic+json": {
              "type": "string"
            }
          },
          "metadata": {},
          "execution_count": 16
        }
      ]
    },
    {
      "cell_type": "code",
      "source": [
        "n_keywords = 10\n",
        "keywords = []\n",
        "for i in range(len(books)):\n",
        "    word_scores = {}\n",
        "    feature_names = vectorizer.get_feature_names_out()\n",
        "    for word in books['Description'][i].split():\n",
        "        if word in feature_names:\n",
        "            word_index = np.where(vectorized_data[i].toarray()[0] == vectorizer.vocabulary_[word])[0]\n",
        "            if word_index.size == 0:\n",
        "                continue\n",
        "            word_scores[word] = vectorized_data[i, word_index[0]]\n",
        "    top_keywords = sorted(word_scores.items(), key=lambda x: x[1], reverse=True)[:n_keywords]\n",
        "    top_keywords = [keyword[0] for keyword in top_keywords]\n",
        "    keywords.append(top_keywords)\n",
        "books['keywords'] = keywords"
      ],
      "metadata": {
        "id": "MGP6H-SKGsy3"
      },
      "execution_count": null,
      "outputs": []
    },
    {
      "cell_type": "code",
      "source": [
        "books['keywords']"
      ],
      "metadata": {
        "colab": {
          "base_uri": "https://localhost:8080/"
        },
        "id": "j_VLU70NB3tE",
        "outputId": "723e983b-4221-4f97-9c73-964088ab3ef3"
      },
      "execution_count": null,
      "outputs": [
        {
          "output_type": "execute_result",
          "data": {
            "text/plain": [
              "0      []\n",
              "1      []\n",
              "2      []\n",
              "3      []\n",
              "4      []\n",
              "       ..\n",
              "266    []\n",
              "267    []\n",
              "268    []\n",
              "269    []\n",
              "270    []\n",
              "Name: keywords, Length: 271, dtype: object"
            ]
          },
          "metadata": {},
          "execution_count": 26
        }
      ]
    },
    {
      "cell_type": "code",
      "source": [
        "#Scraping & Crawling  [name,in our database?, search, get thee description >>> before we must ask the user if this was the requested textbook or not? >> to continue the process of extraction]"
      ],
      "metadata": {
        "id": "QXjboH7eTGLs"
      },
      "execution_count": null,
      "outputs": []
    },
    {
      "cell_type": "code",
      "source": [
        "import requests #http library"
      ],
      "metadata": {
        "id": "qNrhLx0STLbl"
      },
      "execution_count": null,
      "outputs": []
    },
    {
      "cell_type": "code",
      "source": [
        "from bs4 import BeautifulSoup"
      ],
      "metadata": {
        "id": "o1Exs9ktTkRY"
      },
      "execution_count": null,
      "outputs": []
    },
    {
      "cell_type": "code",
      "source": [
        "#now i want to provide the search engine that the crawling and scraping will use (google)\n",
        "url = 'https://www.google.com/search?q={}+book' #q=????"
      ],
      "metadata": {
        "id": "g0msLljTUXbl"
      },
      "execution_count": null,
      "outputs": []
    },
    {
      "cell_type": "code",
      "source": [
        "#book_name = input('Book Name') #this is just fot testing , later on it will be retrived from the database\n",
        "book_name=\"C++ Primer\""
      ],
      "metadata": {
        "id": "HeGrRqBgVSgS"
      },
      "execution_count": null,
      "outputs": []
    },
    {
      "cell_type": "code",
      "source": [
        "#Before starting the scraping and crawling process, we must make sure that the book is not alrady in our dataset"
      ],
      "metadata": {
        "id": "C0xEUGnHViKJ"
      },
      "execution_count": null,
      "outputs": []
    },
    {
      "cell_type": "code",
      "source": [
        "response = requests.get(url.format(book_name))#get request"
      ],
      "metadata": {
        "id": "lMlAiFIsWT7y"
      },
      "execution_count": null,
      "outputs": []
    },
    {
      "cell_type": "code",
      "source": [
        "soup = BeautifulSoup(response.text, 'html.parser')"
      ],
      "metadata": {
        "id": "UwrI4xnfW3Rt"
      },
      "execution_count": null,
      "outputs": []
    },
    {
      "cell_type": "code",
      "source": [
        "book_title = soup.find('div', {'class': 'BNeawe deIvCb AP7Wnd'}).text"
      ],
      "metadata": {
        "id": "-VCK7msYXwfm"
      },
      "execution_count": null,
      "outputs": []
    },
    {
      "cell_type": "code",
      "source": [
        "book_title"
      ],
      "metadata": {
        "colab": {
          "base_uri": "https://localhost:8080/",
          "height": 35
        },
        "id": "nxC1Blv0Xzy4",
        "outputId": "499cc158-71f7-407d-8727-5bdafb163f5b"
      },
      "execution_count": null,
      "outputs": [
        {
          "output_type": "execute_result",
          "data": {
            "text/plain": [
              "'C Primer Plus 5th Edition'"
            ],
            "application/vnd.google.colaboratory.intrinsic+json": {
              "type": "string"
            }
          },
          "metadata": {},
          "execution_count": 44
        }
      ]
    },
    {
      "cell_type": "code",
      "source": [
        "book_title = soup.find('div', {'class': 'BNeawe deIvCb AP7Wnd'}).text\n",
        "book_author = soup.find('div', {'class': 'BNeawe s3v9rd AP7Wnd'}).text\n",
        "book_description = soup.find('div', {'class': 'BNeawe s3v9rd'}).text\n",
        "book_cover_url = soup.find('img', {'class': 'rg_i'}).get('src')"
      ],
      "metadata": {
        "colab": {
          "base_uri": "https://localhost:8080/",
          "height": 218
        },
        "id": "4fH7o3WYXSQN",
        "outputId": "ef58d782-3c8e-4ad0-e2a2-2f218a2b421b"
      },
      "execution_count": null,
      "outputs": [
        {
          "output_type": "error",
          "ename": "AttributeError",
          "evalue": "ignored",
          "traceback": [
            "\u001b[0;31m---------------------------------------------------------------------------\u001b[0m",
            "\u001b[0;31mAttributeError\u001b[0m                            Traceback (most recent call last)",
            "\u001b[0;32m<ipython-input-42-086997ed7c62>\u001b[0m in \u001b[0;36m<cell line: 3>\u001b[0;34m()\u001b[0m\n\u001b[1;32m      1\u001b[0m \u001b[0mbook_title\u001b[0m \u001b[0;34m=\u001b[0m \u001b[0msoup\u001b[0m\u001b[0;34m.\u001b[0m\u001b[0mfind\u001b[0m\u001b[0;34m(\u001b[0m\u001b[0;34m'div'\u001b[0m\u001b[0;34m,\u001b[0m \u001b[0;34m{\u001b[0m\u001b[0;34m'class'\u001b[0m\u001b[0;34m:\u001b[0m \u001b[0;34m'BNeawe deIvCb AP7Wnd'\u001b[0m\u001b[0;34m}\u001b[0m\u001b[0;34m)\u001b[0m\u001b[0;34m.\u001b[0m\u001b[0mtext\u001b[0m\u001b[0;34m\u001b[0m\u001b[0;34m\u001b[0m\u001b[0m\n\u001b[1;32m      2\u001b[0m \u001b[0mbook_author\u001b[0m \u001b[0;34m=\u001b[0m \u001b[0msoup\u001b[0m\u001b[0;34m.\u001b[0m\u001b[0mfind\u001b[0m\u001b[0;34m(\u001b[0m\u001b[0;34m'div'\u001b[0m\u001b[0;34m,\u001b[0m \u001b[0;34m{\u001b[0m\u001b[0;34m'class'\u001b[0m\u001b[0;34m:\u001b[0m \u001b[0;34m'BNeawe s3v9rd AP7Wnd'\u001b[0m\u001b[0;34m}\u001b[0m\u001b[0;34m)\u001b[0m\u001b[0;34m.\u001b[0m\u001b[0mtext\u001b[0m\u001b[0;34m\u001b[0m\u001b[0;34m\u001b[0m\u001b[0m\n\u001b[0;32m----> 3\u001b[0;31m \u001b[0mbook_description\u001b[0m \u001b[0;34m=\u001b[0m \u001b[0msoup\u001b[0m\u001b[0;34m.\u001b[0m\u001b[0mfind\u001b[0m\u001b[0;34m(\u001b[0m\u001b[0;34m'div'\u001b[0m\u001b[0;34m,\u001b[0m \u001b[0;34m{\u001b[0m\u001b[0;34m'class'\u001b[0m\u001b[0;34m:\u001b[0m \u001b[0;34m'BNeawe s3v9rd'\u001b[0m\u001b[0;34m}\u001b[0m\u001b[0;34m)\u001b[0m\u001b[0;34m.\u001b[0m\u001b[0mtext\u001b[0m\u001b[0;34m\u001b[0m\u001b[0;34m\u001b[0m\u001b[0m\n\u001b[0m\u001b[1;32m      4\u001b[0m \u001b[0mbook_cover_url\u001b[0m \u001b[0;34m=\u001b[0m \u001b[0msoup\u001b[0m\u001b[0;34m.\u001b[0m\u001b[0mfind\u001b[0m\u001b[0;34m(\u001b[0m\u001b[0;34m'img'\u001b[0m\u001b[0;34m,\u001b[0m \u001b[0;34m{\u001b[0m\u001b[0;34m'class'\u001b[0m\u001b[0;34m:\u001b[0m \u001b[0;34m'rg_i'\u001b[0m\u001b[0;34m}\u001b[0m\u001b[0;34m)\u001b[0m\u001b[0;34m.\u001b[0m\u001b[0mget\u001b[0m\u001b[0;34m(\u001b[0m\u001b[0;34m'src'\u001b[0m\u001b[0;34m)\u001b[0m\u001b[0;34m\u001b[0m\u001b[0;34m\u001b[0m\u001b[0m\n",
            "\u001b[0;31mAttributeError\u001b[0m: 'NoneType' object has no attribute 'text'"
          ]
        }
      ]
    },
    {
      "cell_type": "code",
      "source": [
        "import sys\n",
        "import json\n",
        "from bs4 import BeautifulSoup\n",
        "from urllib.request import urlopen"
      ],
      "metadata": {
        "id": "vy8l7CNtaYk3"
      },
      "execution_count": null,
      "outputs": []
    },
    {
      "cell_type": "code",
      "source": [
        "class QuickScrape:\n",
        "    def scrape(self):\n",
        "        # link = \"https://www.udemy.com/course/the-complete-web-development-bootcamp/\"\n",
        "        # link = \"https://stackoverflow.com/questions/18134318/extracting-contents-from-specific-meta-tags-that-are-not-closed-using-beautifuls\" #fails\n",
        "        link = sys.argv[1]\n",
        "        try:\n",
        "            # soup = BeautifulSoup(urlopen(link), \"lxml\")\n",
        "            soup = BeautifulSoup(urlopen(link), \"html.parser\")\n",
        "            title = \"\"\n",
        "            description = \"\"\n",
        "            if soup.title is not None:\n",
        "                title = soup.title.string\n",
        "            if soup.find('meta', attrs={'name': 'description'}) is not None:\n",
        "                description = soup.find('meta', attrs={'name': 'description'})['content']\n",
        "\n",
        "            learningResource = []\n",
        "            if (title is None or title == \"\") and (description is None or description == \"\"):\n",
        "                print(json.dumps(\"Failed\"))\n",
        "                return\n",
        "\n",
        "            if title is not None:\n",
        "                learningResource.append(title)\n",
        "            if description is not None:\n",
        "                learningResource.append(description)\n",
        "            print(json.dumps(learningResource))\n",
        "        except Exception as e:\n",
        "            print(json.dumps(\"Failed\"))\n",
        "            # raise Exception(e)\n",
        "\n",
        "quickScrape = QuickScrape()\n",
        "quickScrape.scrape()"
      ],
      "metadata": {
        "colab": {
          "base_uri": "https://localhost:8080/"
        },
        "id": "xaJVwCJdaU7u",
        "outputId": "234ec973-7bca-4d72-f004-7b4185990d8f"
      },
      "execution_count": null,
      "outputs": [
        {
          "output_type": "stream",
          "name": "stdout",
          "text": [
            "\"Failed\"\n"
          ]
        }
      ]
    },
    {
      "cell_type": "code",
      "source": [
        "#using google book API to get the info of a book, this is noot a generic way>> the point is to get the voulmeinfo object which contains everything we want to know about the book"
      ],
      "metadata": {
        "id": "yRWw8vyh5IBP"
      },
      "execution_count": null,
      "outputs": []
    },
    {
      "cell_type": "code",
      "source": [
        "url = 'https://www.googleapis.com/books/v1/volumes'"
      ],
      "metadata": {
        "id": "hkmGgPd9lFE_"
      },
      "execution_count": null,
      "outputs": []
    },
    {
      "cell_type": "code",
      "source": [
        "params = {'q': book_name}\n",
        "response = requests.get(url, params=params)"
      ],
      "metadata": {
        "id": "zgjkkQOWlbF8"
      },
      "execution_count": null,
      "outputs": []
    },
    {
      "cell_type": "code",
      "source": [
        "response.status_code #if it's not 200, then it's failled we must include this in try&excpet"
      ],
      "metadata": {
        "colab": {
          "base_uri": "https://localhost:8080/"
        },
        "id": "7VlmyVam2sat",
        "outputId": "5a5ac460-7d91-480d-a768-a3d0a0e27a06"
      },
      "execution_count": null,
      "outputs": [
        {
          "output_type": "execute_result",
          "data": {
            "text/plain": [
              "200"
            ]
          },
          "metadata": {},
          "execution_count": 7
        }
      ]
    },
    {
      "cell_type": "code",
      "source": [
        "#getting the response in JSON form insteaf of normal text or csv to index the book title and description in an easy way."
      ],
      "metadata": {
        "id": "vFOwEaWk3btt"
      },
      "execution_count": null,
      "outputs": []
    },
    {
      "cell_type": "code",
      "source": [
        "data = response.json()\n",
        "if 'items' in data and len(data['items']) > 0:\n",
        "    book = data['items'][0]['volumeInfo']\n",
        "    book_title = book['title']\n",
        "    book_author = ', '.join(book['authors'])\n",
        "    book_description = book['description']\n",
        "    book_cover_url = book['imageLinks']['thumbnail']\n",
        "\n",
        "    print('Title:', book_title)\n",
        "    print('Author:', book_author)\n",
        "    print('Description:', book_description)\n",
        "    print('Cover:', book_cover_url)\n",
        "else:\n",
        "    print('No results')"
      ],
      "metadata": {
        "colab": {
          "base_uri": "https://localhost:8080/"
        },
        "id": "JmQoUkMfleAD",
        "outputId": "7731b3db-e749-4b4b-a27f-6bf38c672812"
      },
      "execution_count": null,
      "outputs": [
        {
          "output_type": "stream",
          "name": "stdout",
          "text": [
            "Title: C++ Primer\n",
            "Author: Stanley Lippman, Josée Lajoie, Barbara Moo\n",
            "Description: Bestselling Programming Tutorial and Reference Completely Rewritten for the New C++11 Standard Fully updated and recast for the newly released C++11 standard, this authoritative and comprehensive introduction to C++ will help you to learn the language fast, and to use it in modern, highly effective ways. Highlighting today’s best practices, the authors show how to use both the core language and its standard library to write efficient, readable, and powerful code. C++ Primer, Fifth Edition, introduces the C++ standard library from the outset, drawing on its common functions and facilities to help you write useful programs without first having to master every language detail. The book’s many examples have been revised to use the new language features and demonstrate how to make the best use of them. This book is a proven tutorial for those new to C++, an authoritative discussion of core C++ concepts and techniques, and a valuable resource for experienced programmers, especially those eager to see C++11 enhancements illuminated. Start Fast and Achieve More Learn how to use the new C++11 language features and the standard library to build robust programs quickly, and get comfortable with high-level programming Learn through examples that illuminate today’s best coding styles and program design techniques Understand the “rationale behind the rules”: why C++11 works as it does Use the extensive crossreferences to help you connect related concepts and insights Benefit from up-to-date learning aids and exercises that emphasize key points, help you to avoid pitfalls, promote good practices, and reinforce what you’ve learned Access the source code for the extended examples from informit.com/title/0321714113 C++ Primer, Fifth Edition, features an enhanced, layflat binding, which allows the book to stay open more easily when placed on a flat surface. This special binding method—notable by a small space inside the spine—also increases durability.\n",
            "Cover: http://books.google.com/books/content?id=J1HMLyxqJfgC&printsec=frontcover&img=1&zoom=1&edge=curl&source=gbs_api\n"
          ]
        }
      ]
    },
    {
      "cell_type": "code",
      "source": [
        "#using Xpath, if i am scrping one type of pages, then i can use browser tools to know the name of the tag i am interested in + class name which is the same as using the provided json file by google books\n",
        "from lxml import etree\n",
        "\n",
        "# Create DOM from HTML text\n",
        "dom = etree.HTML(response.text)\n",
        "elements = dom.xpath(\"//span[@data-testid='description' and contains(@class,'CurrentConditions')]\")\n",
        "#print(elements[0].text)"
      ],
      "metadata": {
        "colab": {
          "base_uri": "https://localhost:8080/"
        },
        "id": "W1D0ZLlE4cdH",
        "outputId": "97cd3c83-1720-48c0-c534-bac2ce726326"
      },
      "execution_count": null,
      "outputs": [
        {
          "output_type": "stream",
          "name": "stdout",
          "text": [
            "0\n"
          ]
        }
      ]
    }
  ]
}