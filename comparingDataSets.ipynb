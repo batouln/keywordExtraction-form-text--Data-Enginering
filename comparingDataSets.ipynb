{
  "nbformat": 4,
  "nbformat_minor": 0,
  "metadata": {
    "colab": {
      "provenance": []
    },
    "kernelspec": {
      "name": "python3",
      "display_name": "Python 3"
    },
    "language_info": {
      "name": "python"
    }
  },
  "cells": [
    {
      "cell_type": "code",
      "execution_count": null,
      "metadata": {
        "id": "ZxQHAarwDZ0y"
      },
      "outputs": [],
      "source": [
        "import numpy as np\n",
        "import pandas as pd"
      ]
    },
    {
      "cell_type": "code",
      "source": [
        "import seaborn as sns"
      ],
      "metadata": {
        "id": "IFFftShBIkog"
      },
      "execution_count": null,
      "outputs": []
    },
    {
      "cell_type": "code",
      "source": [
        "import matplotlib.pyplot as plt"
      ],
      "metadata": {
        "id": "eLcrjnUoKd3X"
      },
      "execution_count": null,
      "outputs": []
    },
    {
      "cell_type": "code",
      "source": [
        "courses=pd.read_csv(\"/content/all_courses.csv\")"
      ],
      "metadata": {
        "id": "Ite32davxbpb"
      },
      "execution_count": null,
      "outputs": []
    },
    {
      "cell_type": "code",
      "source": [
        "courses.head()"
      ],
      "metadata": {
        "colab": {
          "base_uri": "https://localhost:8080/",
          "height": 527
        },
        "id": "e6vj4-oS5TXY",
        "outputId": "c49a3542-3d55-4836-8732-961f8aceeee0"
      },
      "execution_count": null,
      "outputs": [
        {
          "output_type": "execute_result",
          "data": {
            "text/plain": [
              "                       Title        Type  \\\n",
              "0  Data Engineering with AWS  nanodegree   \n",
              "1            Product Manager  nanodegree   \n",
              "2                        C++  nanodegree   \n",
              "3         Business Analytics  nanodegree   \n",
              "4             Data Scientist  nanodegree   \n",
              "\n",
              "                                         Description         Level  Duration  \\\n",
              "0  Learn to design data models, build data wareho...  intermediate  4 Months   \n",
              "1  Envision and execute the development of indust...      beginner  4 Months   \n",
              "2  Get hands-on experience building five real-wor...  intermediate  4 Months   \n",
              "3  Gain foundational data skills like analyzing d...      beginner  3 Months   \n",
              "4  Build effective machine learning models, run d...      advanced  4 Months   \n",
              "\n",
              "   Rating  Review Count                                     Skills Covered  \\\n",
              "0     4.6        1802.0  AWS Glue,  Amazon S3,  AWS Data Warehouse,  Re...   \n",
              "1     4.7         864.0  Product Strategy, Product Design, Product Deve...   \n",
              "2     4.5        1126.0  Data Structures & Algorithms, Memory Managemen...   \n",
              "3     4.8        2649.0  Excel & Spreadsheets, SQL, Data Visualization,...   \n",
              "4     4.7        1212.0  Machine Learning, Deep Learning, Software Engi...   \n",
              "\n",
              "                                       Prerequisites  \\\n",
              "0  Intermediate Python, intermediate SQL & comman...   \n",
              "1                             No Experience Required   \n",
              "2                           Intermediate Programming   \n",
              "3                                               None   \n",
              "4                           Python, SQL & Statistics   \n",
              "\n",
              "                                          Affiliates  \\\n",
              "0                                                NaN   \n",
              "1                                                NaN   \n",
              "2                                                NaN   \n",
              "3                                               Mode   \n",
              "4  Bertelsmann, Figure Eight, IBM Watson, Insight...   \n",
              "\n",
              "                                                 URL  \n",
              "0  https://www.udacity.com/course/data-engineer-n...  \n",
              "1  https://www.udacity.com/course/product-manager...  \n",
              "2  https://www.udacity.com/course/c-plus-plus-nan...  \n",
              "3  https://www.udacity.com/course/business-analyt...  \n",
              "4  https://www.udacity.com/course/data-scientist-...  "
            ],
            "text/html": [
              "\n",
              "  <div id=\"df-823af8c4-94b2-4d35-8032-7c738456aaa6\">\n",
              "    <div class=\"colab-df-container\">\n",
              "      <div>\n",
              "<style scoped>\n",
              "    .dataframe tbody tr th:only-of-type {\n",
              "        vertical-align: middle;\n",
              "    }\n",
              "\n",
              "    .dataframe tbody tr th {\n",
              "        vertical-align: top;\n",
              "    }\n",
              "\n",
              "    .dataframe thead th {\n",
              "        text-align: right;\n",
              "    }\n",
              "</style>\n",
              "<table border=\"1\" class=\"dataframe\">\n",
              "  <thead>\n",
              "    <tr style=\"text-align: right;\">\n",
              "      <th></th>\n",
              "      <th>Title</th>\n",
              "      <th>Type</th>\n",
              "      <th>Description</th>\n",
              "      <th>Level</th>\n",
              "      <th>Duration</th>\n",
              "      <th>Rating</th>\n",
              "      <th>Review Count</th>\n",
              "      <th>Skills Covered</th>\n",
              "      <th>Prerequisites</th>\n",
              "      <th>Affiliates</th>\n",
              "      <th>URL</th>\n",
              "    </tr>\n",
              "  </thead>\n",
              "  <tbody>\n",
              "    <tr>\n",
              "      <th>0</th>\n",
              "      <td>Data Engineering with AWS</td>\n",
              "      <td>nanodegree</td>\n",
              "      <td>Learn to design data models, build data wareho...</td>\n",
              "      <td>intermediate</td>\n",
              "      <td>4 Months</td>\n",
              "      <td>4.6</td>\n",
              "      <td>1802.0</td>\n",
              "      <td>AWS Glue,  Amazon S3,  AWS Data Warehouse,  Re...</td>\n",
              "      <td>Intermediate Python, intermediate SQL &amp; comman...</td>\n",
              "      <td>NaN</td>\n",
              "      <td>https://www.udacity.com/course/data-engineer-n...</td>\n",
              "    </tr>\n",
              "    <tr>\n",
              "      <th>1</th>\n",
              "      <td>Product Manager</td>\n",
              "      <td>nanodegree</td>\n",
              "      <td>Envision and execute the development of indust...</td>\n",
              "      <td>beginner</td>\n",
              "      <td>4 Months</td>\n",
              "      <td>4.7</td>\n",
              "      <td>864.0</td>\n",
              "      <td>Product Strategy, Product Design, Product Deve...</td>\n",
              "      <td>No Experience Required</td>\n",
              "      <td>NaN</td>\n",
              "      <td>https://www.udacity.com/course/product-manager...</td>\n",
              "    </tr>\n",
              "    <tr>\n",
              "      <th>2</th>\n",
              "      <td>C++</td>\n",
              "      <td>nanodegree</td>\n",
              "      <td>Get hands-on experience building five real-wor...</td>\n",
              "      <td>intermediate</td>\n",
              "      <td>4 Months</td>\n",
              "      <td>4.5</td>\n",
              "      <td>1126.0</td>\n",
              "      <td>Data Structures &amp; Algorithms, Memory Managemen...</td>\n",
              "      <td>Intermediate Programming</td>\n",
              "      <td>NaN</td>\n",
              "      <td>https://www.udacity.com/course/c-plus-plus-nan...</td>\n",
              "    </tr>\n",
              "    <tr>\n",
              "      <th>3</th>\n",
              "      <td>Business Analytics</td>\n",
              "      <td>nanodegree</td>\n",
              "      <td>Gain foundational data skills like analyzing d...</td>\n",
              "      <td>beginner</td>\n",
              "      <td>3 Months</td>\n",
              "      <td>4.8</td>\n",
              "      <td>2649.0</td>\n",
              "      <td>Excel &amp; Spreadsheets, SQL, Data Visualization,...</td>\n",
              "      <td>None</td>\n",
              "      <td>Mode</td>\n",
              "      <td>https://www.udacity.com/course/business-analyt...</td>\n",
              "    </tr>\n",
              "    <tr>\n",
              "      <th>4</th>\n",
              "      <td>Data Scientist</td>\n",
              "      <td>nanodegree</td>\n",
              "      <td>Build effective machine learning models, run d...</td>\n",
              "      <td>advanced</td>\n",
              "      <td>4 Months</td>\n",
              "      <td>4.7</td>\n",
              "      <td>1212.0</td>\n",
              "      <td>Machine Learning, Deep Learning, Software Engi...</td>\n",
              "      <td>Python, SQL &amp; Statistics</td>\n",
              "      <td>Bertelsmann, Figure Eight, IBM Watson, Insight...</td>\n",
              "      <td>https://www.udacity.com/course/data-scientist-...</td>\n",
              "    </tr>\n",
              "  </tbody>\n",
              "</table>\n",
              "</div>\n",
              "      <button class=\"colab-df-convert\" onclick=\"convertToInteractive('df-823af8c4-94b2-4d35-8032-7c738456aaa6')\"\n",
              "              title=\"Convert this dataframe to an interactive table.\"\n",
              "              style=\"display:none;\">\n",
              "        \n",
              "  <svg xmlns=\"http://www.w3.org/2000/svg\" height=\"24px\"viewBox=\"0 0 24 24\"\n",
              "       width=\"24px\">\n",
              "    <path d=\"M0 0h24v24H0V0z\" fill=\"none\"/>\n",
              "    <path d=\"M18.56 5.44l.94 2.06.94-2.06 2.06-.94-2.06-.94-.94-2.06-.94 2.06-2.06.94zm-11 1L8.5 8.5l.94-2.06 2.06-.94-2.06-.94L8.5 2.5l-.94 2.06-2.06.94zm10 10l.94 2.06.94-2.06 2.06-.94-2.06-.94-.94-2.06-.94 2.06-2.06.94z\"/><path d=\"M17.41 7.96l-1.37-1.37c-.4-.4-.92-.59-1.43-.59-.52 0-1.04.2-1.43.59L10.3 9.45l-7.72 7.72c-.78.78-.78 2.05 0 2.83L4 21.41c.39.39.9.59 1.41.59.51 0 1.02-.2 1.41-.59l7.78-7.78 2.81-2.81c.8-.78.8-2.07 0-2.86zM5.41 20L4 18.59l7.72-7.72 1.47 1.35L5.41 20z\"/>\n",
              "  </svg>\n",
              "      </button>\n",
              "      \n",
              "  <style>\n",
              "    .colab-df-container {\n",
              "      display:flex;\n",
              "      flex-wrap:wrap;\n",
              "      gap: 12px;\n",
              "    }\n",
              "\n",
              "    .colab-df-convert {\n",
              "      background-color: #E8F0FE;\n",
              "      border: none;\n",
              "      border-radius: 50%;\n",
              "      cursor: pointer;\n",
              "      display: none;\n",
              "      fill: #1967D2;\n",
              "      height: 32px;\n",
              "      padding: 0 0 0 0;\n",
              "      width: 32px;\n",
              "    }\n",
              "\n",
              "    .colab-df-convert:hover {\n",
              "      background-color: #E2EBFA;\n",
              "      box-shadow: 0px 1px 2px rgba(60, 64, 67, 0.3), 0px 1px 3px 1px rgba(60, 64, 67, 0.15);\n",
              "      fill: #174EA6;\n",
              "    }\n",
              "\n",
              "    [theme=dark] .colab-df-convert {\n",
              "      background-color: #3B4455;\n",
              "      fill: #D2E3FC;\n",
              "    }\n",
              "\n",
              "    [theme=dark] .colab-df-convert:hover {\n",
              "      background-color: #434B5C;\n",
              "      box-shadow: 0px 1px 3px 1px rgba(0, 0, 0, 0.15);\n",
              "      filter: drop-shadow(0px 1px 2px rgba(0, 0, 0, 0.3));\n",
              "      fill: #FFFFFF;\n",
              "    }\n",
              "  </style>\n",
              "\n",
              "      <script>\n",
              "        const buttonEl =\n",
              "          document.querySelector('#df-823af8c4-94b2-4d35-8032-7c738456aaa6 button.colab-df-convert');\n",
              "        buttonEl.style.display =\n",
              "          google.colab.kernel.accessAllowed ? 'block' : 'none';\n",
              "\n",
              "        async function convertToInteractive(key) {\n",
              "          const element = document.querySelector('#df-823af8c4-94b2-4d35-8032-7c738456aaa6');\n",
              "          const dataTable =\n",
              "            await google.colab.kernel.invokeFunction('convertToInteractive',\n",
              "                                                     [key], {});\n",
              "          if (!dataTable) return;\n",
              "\n",
              "          const docLinkHtml = 'Like what you see? Visit the ' +\n",
              "            '<a target=\"_blank\" href=https://colab.research.google.com/notebooks/data_table.ipynb>data table notebook</a>'\n",
              "            + ' to learn more about interactive tables.';\n",
              "          element.innerHTML = '';\n",
              "          dataTable['output_type'] = 'display_data';\n",
              "          await google.colab.output.renderOutput(dataTable, element);\n",
              "          const docLink = document.createElement('div');\n",
              "          docLink.innerHTML = docLinkHtml;\n",
              "          element.appendChild(docLink);\n",
              "        }\n",
              "      </script>\n",
              "    </div>\n",
              "  </div>\n",
              "  "
            ]
          },
          "metadata": {},
          "execution_count": 75
        }
      ]
    },
    {
      "cell_type": "code",
      "source": [
        "import nltk\n",
        "nltk.download('stopwords')"
      ],
      "metadata": {
        "colab": {
          "base_uri": "https://localhost:8080/"
        },
        "id": "HsrRpVBuaRCw",
        "outputId": "f976b82b-05ec-4f17-f296-e0e2ed6f1a58"
      },
      "execution_count": null,
      "outputs": [
        {
          "output_type": "stream",
          "name": "stderr",
          "text": [
            "[nltk_data] Downloading package stopwords to /root/nltk_data...\n",
            "[nltk_data]   Package stopwords is already up-to-date!\n"
          ]
        },
        {
          "output_type": "execute_result",
          "data": {
            "text/plain": [
              "True"
            ]
          },
          "metadata": {},
          "execution_count": 41
        }
      ]
    },
    {
      "cell_type": "code",
      "source": [
        "from nltk.corpus import stopwords\n",
        "stop = stopwords.words('english')"
      ],
      "metadata": {
        "id": "9haqwk1YaKZu"
      },
      "execution_count": null,
      "outputs": []
    },
    {
      "cell_type": "code",
      "source": [
        "courses['Skills Covered'].isnull().sum()"
      ],
      "metadata": {
        "colab": {
          "base_uri": "https://localhost:8080/"
        },
        "id": "w6n1g6-aqpwH",
        "outputId": "094c07d2-996f-427a-d4e5-9bbdc85bf0a3"
      },
      "execution_count": null,
      "outputs": [
        {
          "output_type": "execute_result",
          "data": {
            "text/plain": [
              "0"
            ]
          },
          "metadata": {},
          "execution_count": 30
        }
      ]
    },
    {
      "cell_type": "code",
      "source": [
        "courses['Prerequisites'].fillna(\"none\",inplace = True)"
      ],
      "metadata": {
        "id": "Lirr-FUCcYbB"
      },
      "execution_count": null,
      "outputs": []
    },
    {
      "cell_type": "code",
      "source": [
        "courses['Skills Covered'].fillna(\"none\",inplace = True)"
      ],
      "metadata": {
        "id": "EQXKu9QGcjwi"
      },
      "execution_count": null,
      "outputs": []
    },
    {
      "cell_type": "code",
      "source": [
        "courses[\"pre_without\"]=courses['Prerequisites'].apply(lambda x: ' '.join([word for word in x.split() if word not in (stop)]))"
      ],
      "metadata": {
        "id": "wv34BOVebzYs"
      },
      "execution_count": null,
      "outputs": []
    },
    {
      "cell_type": "code",
      "source": [
        "courses[\"cov_without\"]=courses['Skills Covered'].apply(lambda x: ' '.join([word for word in x.split() if word not in (stop)]))"
      ],
      "metadata": {
        "id": "jyHmtapCcsTB"
      },
      "execution_count": null,
      "outputs": []
    },
    {
      "cell_type": "code",
      "source": [
        "courses[\"pre_without\"]=courses['Prerequisites'].apply(lambda x: x.replace('&',','))\n",
        "courses[\"cov_without\"]=courses['Skills Covered'].apply(lambda x: x.replace('&',','))"
      ],
      "metadata": {
        "id": "U_E9TyhonJCJ"
      },
      "execution_count": null,
      "outputs": []
    },
    {
      "cell_type": "code",
      "source": [
        "courses[\"Prerequisites_List\"]=courses[\"pre_without\"].str.split(\",\")"
      ],
      "metadata": {
        "id": "JVRFYKGJc24B"
      },
      "execution_count": null,
      "outputs": []
    },
    {
      "cell_type": "code",
      "source": [
        "courses[\"Prerequisites_List\"]=courses[\"Prerequisites_List\"].apply(lambda x: [word for word in x.strip()])\n",
        "courses[\"Prerequisites_List\"]"
      ],
      "metadata": {
        "colab": {
          "base_uri": "https://localhost:8080/"
        },
        "id": "MusUF_66zmPL",
        "outputId": "269ce6ec-cb9a-4352-cdf2-c211457bf821"
      },
      "execution_count": null,
      "outputs": [
        {
          "output_type": "execute_result",
          "data": {
            "text/plain": [
              "0     NaN\n",
              "1     NaN\n",
              "2     NaN\n",
              "3     NaN\n",
              "4     NaN\n",
              "       ..\n",
              "262   NaN\n",
              "263   NaN\n",
              "264   NaN\n",
              "265   NaN\n",
              "266   NaN\n",
              "Name: Prerequisites_List, Length: 267, dtype: float64"
            ]
          },
          "metadata": {},
          "execution_count": 73
        }
      ]
    },
    {
      "cell_type": "code",
      "source": [
        "courses[\"Covered_List\"]=courses[\"cov_without\"].str.split(\"&\")\n",
        "courses[\"Covered_List\"]\n",
        "courses.loc[courses['Title'] == 'C++',\"Covered_List\"].iloc[0]"
      ],
      "metadata": {
        "colab": {
          "base_uri": "https://localhost:8080/"
        },
        "id": "v92bPMFPqDCp",
        "outputId": "b91ca213-bdf0-4da5-e52c-d5b822708bfd"
      },
      "execution_count": null,
      "outputs": [
        {
          "output_type": "execute_result",
          "data": {
            "text/plain": [
              "['Data Structures ',\n",
              " ' Algorithms, Memory Management, Concurrency, Object-oriented Programming, C++']"
            ]
          },
          "metadata": {},
          "execution_count": 51
        }
      ]
    },
    {
      "cell_type": "code",
      "source": [
        "courses[\"Covered_List\"]=courses[\"cov_without\"].str.split(\",\")"
      ],
      "metadata": {
        "id": "qSWIJKVKc3W9"
      },
      "execution_count": null,
      "outputs": []
    },
    {
      "cell_type": "code",
      "source": [
        "courses.head(10)"
      ],
      "metadata": {
        "colab": {
          "base_uri": "https://localhost:8080/",
          "height": 1000
        },
        "id": "QqWsQ__YEfD2",
        "outputId": "43fea97e-1e59-45f1-b908-76f87c39352d"
      },
      "execution_count": null,
      "outputs": [
        {
          "output_type": "execute_result",
          "data": {
            "text/plain": [
              "                                      Title        Type  \\\n",
              "0                 Data Engineering with AWS  nanodegree   \n",
              "1                           Product Manager  nanodegree   \n",
              "2                                       C++  nanodegree   \n",
              "3                        Business Analytics  nanodegree   \n",
              "4                            Data Scientist  nanodegree   \n",
              "5               Introduction to Programming  nanodegree   \n",
              "6                         Digital Marketing  nanodegree   \n",
              "7                              Data Analyst  nanodegree   \n",
              "8                             Deep Learning  nanodegree   \n",
              "9  Programming for Data Science with Python  nanodegree   \n",
              "\n",
              "                                         Description         Level  Duration  \\\n",
              "0  Learn to design data models, build data wareho...  intermediate  4 Months   \n",
              "1  Envision and execute the development of indust...      beginner  4 Months   \n",
              "2  Get hands-on experience building five real-wor...  intermediate  4 Months   \n",
              "3  Gain foundational data skills like analyzing d...      beginner  3 Months   \n",
              "4  Build effective machine learning models, run d...      advanced  4 Months   \n",
              "5  A first step for beginners towards careers in ...      beginner  4 Months   \n",
              "6  Meet the growing demand for skilled digital ma...      beginner  3 Months   \n",
              "7  Use Python, SQL, and statistics to uncover ins...  intermediate  4 Months   \n",
              "8  Deep learning is driving advances in artificia...  intermediate  4 Months   \n",
              "9  Learn the fundamental programming tools for da...      beginner  3 Months   \n",
              "\n",
              "   Rating  Review Count                                     Skills Covered  \\\n",
              "0     4.6        1802.0  AWS Glue,  Amazon S3,  AWS Data Warehouse,  Re...   \n",
              "1     4.7         864.0  Product Strategy, Product Design, Product Deve...   \n",
              "2     4.5        1126.0  Data Structures & Algorithms, Memory Managemen...   \n",
              "3     4.8        2649.0  Excel & Spreadsheets, SQL, Data Visualization,...   \n",
              "4     4.7        1212.0  Machine Learning, Deep Learning, Software Engi...   \n",
              "5     4.7        3865.0  Front-End Development Basics,  HTML,  CSS,  Py...   \n",
              "6     4.7        2418.0  Digital Marketing,  Marketing fundamentals,  G...   \n",
              "7     4.6        3496.0  Data Wrangling, Matplotlib, Bootstrapping, Pan...   \n",
              "8     4.7        3368.0  Neural Networks,  Perceptron,  Autoencoders,  ...   \n",
              "9     4.7        1558.0          Python, Numpy & Pandas, SQL, Git & GitHub   \n",
              "\n",
              "                                       Prerequisites  \\\n",
              "0  Intermediate Python, intermediate SQL & comman...   \n",
              "1                             No Experience Required   \n",
              "2                           Intermediate Programming   \n",
              "3                                               None   \n",
              "4                           Python, SQL & Statistics   \n",
              "5                        No coding experience needed   \n",
              "6                            No Experience Required.   \n",
              "7                                       Python & SQL   \n",
              "8                                Intermediate Python   \n",
              "9                                               None   \n",
              "\n",
              "                                          Affiliates  \\\n",
              "0                                                NaN   \n",
              "1                                                NaN   \n",
              "2                                                NaN   \n",
              "3                                               Mode   \n",
              "4  Bertelsmann, Figure Eight, IBM Watson, Insight...   \n",
              "5                                                NaN   \n",
              "6                                                NaN   \n",
              "7                                             Kaggle   \n",
              "8                                                NaN   \n",
              "9                                               Mode   \n",
              "\n",
              "                                                 URL  \\\n",
              "0  https://www.udacity.com/course/data-engineer-n...   \n",
              "1  https://www.udacity.com/course/product-manager...   \n",
              "2  https://www.udacity.com/course/c-plus-plus-nan...   \n",
              "3  https://www.udacity.com/course/business-analyt...   \n",
              "4  https://www.udacity.com/course/data-scientist-...   \n",
              "5  https://www.udacity.com/course/intro-to-progra...   \n",
              "6  https://www.udacity.com/course/digital-marketi...   \n",
              "7  https://www.udacity.com/course/data-analyst-na...   \n",
              "8  https://www.udacity.com/course/deep-learning-n...   \n",
              "9  https://www.udacity.com/course/programming-for...   \n",
              "\n",
              "                                         pre_without  \\\n",
              "0  Intermediate Python, intermediate SQL & comman...   \n",
              "1                             No Experience Required   \n",
              "2                           Intermediate Programming   \n",
              "3                                               None   \n",
              "4                           Python, SQL & Statistics   \n",
              "5                        No coding experience needed   \n",
              "6                            No Experience Required.   \n",
              "7                                       Python & SQL   \n",
              "8                                Intermediate Python   \n",
              "9                                               None   \n",
              "\n",
              "                                         cov_without  \\\n",
              "0  AWS Glue, Amazon S3, AWS Data Warehouse, Redsh...   \n",
              "1  Product Strategy, Product Design, Product Deve...   \n",
              "2  Data Structures & Algorithms, Memory Managemen...   \n",
              "3  Excel & Spreadsheets, SQL, Data Visualization,...   \n",
              "4  Machine Learning, Deep Learning, Software Engi...   \n",
              "5  Front-End Development Basics, HTML, CSS, Pytho...   \n",
              "6  Digital Marketing, Marketing fundamentals, Goo...   \n",
              "7  Data Wrangling, Matplotlib, Bootstrapping, Pan...   \n",
              "8  Neural Networks, Perceptron, Autoencoders, Con...   \n",
              "9          Python, Numpy & Pandas, SQL, Git & GitHub   \n",
              "\n",
              "                                  Prerequisites_List  \\\n",
              "0  [Intermediate Python, intermediate SQL ,  comm...   \n",
              "1                           [No Experience Required]   \n",
              "2                         [Intermediate Programming]   \n",
              "3                                             [None]   \n",
              "4                        [Python, SQL ,  Statistics]   \n",
              "5                      [No coding experience needed]   \n",
              "6                          [No Experience Required.]   \n",
              "7                                    [Python ,  SQL]   \n",
              "8                              [Intermediate Python]   \n",
              "9                                             [None]   \n",
              "\n",
              "                                        Covered_List  \n",
              "0  [AWS Glue, Amazon S3, AWS Data Warehouse, Reds...  \n",
              "1  [Product Strategy, Product Design, Product Dev...  \n",
              "2  [Data Structures ,  Algorithms, Memory Managem...  \n",
              "3  [Excel ,  Spreadsheets, SQL, Data Visualizatio...  \n",
              "4  [Machine Learning, Deep Learning, Software Eng...  \n",
              "5  [Front-End Development Basics, HTML, CSS, Pyth...  \n",
              "6  [Digital Marketing, Marketing fundamentals, Go...  \n",
              "7  [Data Wrangling, Matplotlib, Bootstrapping, Pa...  \n",
              "8  [Neural Networks, Perceptron, Autoencoders, Co...  \n",
              "9      [Python, Numpy ,  Pandas, SQL, Git ,  GitHub]  "
            ],
            "text/html": [
              "\n",
              "  <div id=\"df-c275fcc4-8e42-400c-bd24-9e5cb01547c7\">\n",
              "    <div class=\"colab-df-container\">\n",
              "      <div>\n",
              "<style scoped>\n",
              "    .dataframe tbody tr th:only-of-type {\n",
              "        vertical-align: middle;\n",
              "    }\n",
              "\n",
              "    .dataframe tbody tr th {\n",
              "        vertical-align: top;\n",
              "    }\n",
              "\n",
              "    .dataframe thead th {\n",
              "        text-align: right;\n",
              "    }\n",
              "</style>\n",
              "<table border=\"1\" class=\"dataframe\">\n",
              "  <thead>\n",
              "    <tr style=\"text-align: right;\">\n",
              "      <th></th>\n",
              "      <th>Title</th>\n",
              "      <th>Type</th>\n",
              "      <th>Description</th>\n",
              "      <th>Level</th>\n",
              "      <th>Duration</th>\n",
              "      <th>Rating</th>\n",
              "      <th>Review Count</th>\n",
              "      <th>Skills Covered</th>\n",
              "      <th>Prerequisites</th>\n",
              "      <th>Affiliates</th>\n",
              "      <th>URL</th>\n",
              "      <th>pre_without</th>\n",
              "      <th>cov_without</th>\n",
              "      <th>Prerequisites_List</th>\n",
              "      <th>Covered_List</th>\n",
              "    </tr>\n",
              "  </thead>\n",
              "  <tbody>\n",
              "    <tr>\n",
              "      <th>0</th>\n",
              "      <td>Data Engineering with AWS</td>\n",
              "      <td>nanodegree</td>\n",
              "      <td>Learn to design data models, build data wareho...</td>\n",
              "      <td>intermediate</td>\n",
              "      <td>4 Months</td>\n",
              "      <td>4.6</td>\n",
              "      <td>1802.0</td>\n",
              "      <td>AWS Glue,  Amazon S3,  AWS Data Warehouse,  Re...</td>\n",
              "      <td>Intermediate Python, intermediate SQL &amp; comman...</td>\n",
              "      <td>NaN</td>\n",
              "      <td>https://www.udacity.com/course/data-engineer-n...</td>\n",
              "      <td>Intermediate Python, intermediate SQL &amp; comman...</td>\n",
              "      <td>AWS Glue, Amazon S3, AWS Data Warehouse, Redsh...</td>\n",
              "      <td>[Intermediate Python, intermediate SQL ,  comm...</td>\n",
              "      <td>[AWS Glue, Amazon S3, AWS Data Warehouse, Reds...</td>\n",
              "    </tr>\n",
              "    <tr>\n",
              "      <th>1</th>\n",
              "      <td>Product Manager</td>\n",
              "      <td>nanodegree</td>\n",
              "      <td>Envision and execute the development of indust...</td>\n",
              "      <td>beginner</td>\n",
              "      <td>4 Months</td>\n",
              "      <td>4.7</td>\n",
              "      <td>864.0</td>\n",
              "      <td>Product Strategy, Product Design, Product Deve...</td>\n",
              "      <td>No Experience Required</td>\n",
              "      <td>NaN</td>\n",
              "      <td>https://www.udacity.com/course/product-manager...</td>\n",
              "      <td>No Experience Required</td>\n",
              "      <td>Product Strategy, Product Design, Product Deve...</td>\n",
              "      <td>[No Experience Required]</td>\n",
              "      <td>[Product Strategy, Product Design, Product Dev...</td>\n",
              "    </tr>\n",
              "    <tr>\n",
              "      <th>2</th>\n",
              "      <td>C++</td>\n",
              "      <td>nanodegree</td>\n",
              "      <td>Get hands-on experience building five real-wor...</td>\n",
              "      <td>intermediate</td>\n",
              "      <td>4 Months</td>\n",
              "      <td>4.5</td>\n",
              "      <td>1126.0</td>\n",
              "      <td>Data Structures &amp; Algorithms, Memory Managemen...</td>\n",
              "      <td>Intermediate Programming</td>\n",
              "      <td>NaN</td>\n",
              "      <td>https://www.udacity.com/course/c-plus-plus-nan...</td>\n",
              "      <td>Intermediate Programming</td>\n",
              "      <td>Data Structures &amp; Algorithms, Memory Managemen...</td>\n",
              "      <td>[Intermediate Programming]</td>\n",
              "      <td>[Data Structures ,  Algorithms, Memory Managem...</td>\n",
              "    </tr>\n",
              "    <tr>\n",
              "      <th>3</th>\n",
              "      <td>Business Analytics</td>\n",
              "      <td>nanodegree</td>\n",
              "      <td>Gain foundational data skills like analyzing d...</td>\n",
              "      <td>beginner</td>\n",
              "      <td>3 Months</td>\n",
              "      <td>4.8</td>\n",
              "      <td>2649.0</td>\n",
              "      <td>Excel &amp; Spreadsheets, SQL, Data Visualization,...</td>\n",
              "      <td>None</td>\n",
              "      <td>Mode</td>\n",
              "      <td>https://www.udacity.com/course/business-analyt...</td>\n",
              "      <td>None</td>\n",
              "      <td>Excel &amp; Spreadsheets, SQL, Data Visualization,...</td>\n",
              "      <td>[None]</td>\n",
              "      <td>[Excel ,  Spreadsheets, SQL, Data Visualizatio...</td>\n",
              "    </tr>\n",
              "    <tr>\n",
              "      <th>4</th>\n",
              "      <td>Data Scientist</td>\n",
              "      <td>nanodegree</td>\n",
              "      <td>Build effective machine learning models, run d...</td>\n",
              "      <td>advanced</td>\n",
              "      <td>4 Months</td>\n",
              "      <td>4.7</td>\n",
              "      <td>1212.0</td>\n",
              "      <td>Machine Learning, Deep Learning, Software Engi...</td>\n",
              "      <td>Python, SQL &amp; Statistics</td>\n",
              "      <td>Bertelsmann, Figure Eight, IBM Watson, Insight...</td>\n",
              "      <td>https://www.udacity.com/course/data-scientist-...</td>\n",
              "      <td>Python, SQL &amp; Statistics</td>\n",
              "      <td>Machine Learning, Deep Learning, Software Engi...</td>\n",
              "      <td>[Python, SQL ,  Statistics]</td>\n",
              "      <td>[Machine Learning, Deep Learning, Software Eng...</td>\n",
              "    </tr>\n",
              "    <tr>\n",
              "      <th>5</th>\n",
              "      <td>Introduction to Programming</td>\n",
              "      <td>nanodegree</td>\n",
              "      <td>A first step for beginners towards careers in ...</td>\n",
              "      <td>beginner</td>\n",
              "      <td>4 Months</td>\n",
              "      <td>4.7</td>\n",
              "      <td>3865.0</td>\n",
              "      <td>Front-End Development Basics,  HTML,  CSS,  Py...</td>\n",
              "      <td>No coding experience needed</td>\n",
              "      <td>NaN</td>\n",
              "      <td>https://www.udacity.com/course/intro-to-progra...</td>\n",
              "      <td>No coding experience needed</td>\n",
              "      <td>Front-End Development Basics, HTML, CSS, Pytho...</td>\n",
              "      <td>[No coding experience needed]</td>\n",
              "      <td>[Front-End Development Basics, HTML, CSS, Pyth...</td>\n",
              "    </tr>\n",
              "    <tr>\n",
              "      <th>6</th>\n",
              "      <td>Digital Marketing</td>\n",
              "      <td>nanodegree</td>\n",
              "      <td>Meet the growing demand for skilled digital ma...</td>\n",
              "      <td>beginner</td>\n",
              "      <td>3 Months</td>\n",
              "      <td>4.7</td>\n",
              "      <td>2418.0</td>\n",
              "      <td>Digital Marketing,  Marketing fundamentals,  G...</td>\n",
              "      <td>No Experience Required.</td>\n",
              "      <td>NaN</td>\n",
              "      <td>https://www.udacity.com/course/digital-marketi...</td>\n",
              "      <td>No Experience Required.</td>\n",
              "      <td>Digital Marketing, Marketing fundamentals, Goo...</td>\n",
              "      <td>[No Experience Required.]</td>\n",
              "      <td>[Digital Marketing, Marketing fundamentals, Go...</td>\n",
              "    </tr>\n",
              "    <tr>\n",
              "      <th>7</th>\n",
              "      <td>Data Analyst</td>\n",
              "      <td>nanodegree</td>\n",
              "      <td>Use Python, SQL, and statistics to uncover ins...</td>\n",
              "      <td>intermediate</td>\n",
              "      <td>4 Months</td>\n",
              "      <td>4.6</td>\n",
              "      <td>3496.0</td>\n",
              "      <td>Data Wrangling, Matplotlib, Bootstrapping, Pan...</td>\n",
              "      <td>Python &amp; SQL</td>\n",
              "      <td>Kaggle</td>\n",
              "      <td>https://www.udacity.com/course/data-analyst-na...</td>\n",
              "      <td>Python &amp; SQL</td>\n",
              "      <td>Data Wrangling, Matplotlib, Bootstrapping, Pan...</td>\n",
              "      <td>[Python ,  SQL]</td>\n",
              "      <td>[Data Wrangling, Matplotlib, Bootstrapping, Pa...</td>\n",
              "    </tr>\n",
              "    <tr>\n",
              "      <th>8</th>\n",
              "      <td>Deep Learning</td>\n",
              "      <td>nanodegree</td>\n",
              "      <td>Deep learning is driving advances in artificia...</td>\n",
              "      <td>intermediate</td>\n",
              "      <td>4 Months</td>\n",
              "      <td>4.7</td>\n",
              "      <td>3368.0</td>\n",
              "      <td>Neural Networks,  Perceptron,  Autoencoders,  ...</td>\n",
              "      <td>Intermediate Python</td>\n",
              "      <td>NaN</td>\n",
              "      <td>https://www.udacity.com/course/deep-learning-n...</td>\n",
              "      <td>Intermediate Python</td>\n",
              "      <td>Neural Networks, Perceptron, Autoencoders, Con...</td>\n",
              "      <td>[Intermediate Python]</td>\n",
              "      <td>[Neural Networks, Perceptron, Autoencoders, Co...</td>\n",
              "    </tr>\n",
              "    <tr>\n",
              "      <th>9</th>\n",
              "      <td>Programming for Data Science with Python</td>\n",
              "      <td>nanodegree</td>\n",
              "      <td>Learn the fundamental programming tools for da...</td>\n",
              "      <td>beginner</td>\n",
              "      <td>3 Months</td>\n",
              "      <td>4.7</td>\n",
              "      <td>1558.0</td>\n",
              "      <td>Python, Numpy &amp; Pandas, SQL, Git &amp; GitHub</td>\n",
              "      <td>None</td>\n",
              "      <td>Mode</td>\n",
              "      <td>https://www.udacity.com/course/programming-for...</td>\n",
              "      <td>None</td>\n",
              "      <td>Python, Numpy &amp; Pandas, SQL, Git &amp; GitHub</td>\n",
              "      <td>[None]</td>\n",
              "      <td>[Python, Numpy ,  Pandas, SQL, Git ,  GitHub]</td>\n",
              "    </tr>\n",
              "  </tbody>\n",
              "</table>\n",
              "</div>\n",
              "      <button class=\"colab-df-convert\" onclick=\"convertToInteractive('df-c275fcc4-8e42-400c-bd24-9e5cb01547c7')\"\n",
              "              title=\"Convert this dataframe to an interactive table.\"\n",
              "              style=\"display:none;\">\n",
              "        \n",
              "  <svg xmlns=\"http://www.w3.org/2000/svg\" height=\"24px\"viewBox=\"0 0 24 24\"\n",
              "       width=\"24px\">\n",
              "    <path d=\"M0 0h24v24H0V0z\" fill=\"none\"/>\n",
              "    <path d=\"M18.56 5.44l.94 2.06.94-2.06 2.06-.94-2.06-.94-.94-2.06-.94 2.06-2.06.94zm-11 1L8.5 8.5l.94-2.06 2.06-.94-2.06-.94L8.5 2.5l-.94 2.06-2.06.94zm10 10l.94 2.06.94-2.06 2.06-.94-2.06-.94-.94-2.06-.94 2.06-2.06.94z\"/><path d=\"M17.41 7.96l-1.37-1.37c-.4-.4-.92-.59-1.43-.59-.52 0-1.04.2-1.43.59L10.3 9.45l-7.72 7.72c-.78.78-.78 2.05 0 2.83L4 21.41c.39.39.9.59 1.41.59.51 0 1.02-.2 1.41-.59l7.78-7.78 2.81-2.81c.8-.78.8-2.07 0-2.86zM5.41 20L4 18.59l7.72-7.72 1.47 1.35L5.41 20z\"/>\n",
              "  </svg>\n",
              "      </button>\n",
              "      \n",
              "  <style>\n",
              "    .colab-df-container {\n",
              "      display:flex;\n",
              "      flex-wrap:wrap;\n",
              "      gap: 12px;\n",
              "    }\n",
              "\n",
              "    .colab-df-convert {\n",
              "      background-color: #E8F0FE;\n",
              "      border: none;\n",
              "      border-radius: 50%;\n",
              "      cursor: pointer;\n",
              "      display: none;\n",
              "      fill: #1967D2;\n",
              "      height: 32px;\n",
              "      padding: 0 0 0 0;\n",
              "      width: 32px;\n",
              "    }\n",
              "\n",
              "    .colab-df-convert:hover {\n",
              "      background-color: #E2EBFA;\n",
              "      box-shadow: 0px 1px 2px rgba(60, 64, 67, 0.3), 0px 1px 3px 1px rgba(60, 64, 67, 0.15);\n",
              "      fill: #174EA6;\n",
              "    }\n",
              "\n",
              "    [theme=dark] .colab-df-convert {\n",
              "      background-color: #3B4455;\n",
              "      fill: #D2E3FC;\n",
              "    }\n",
              "\n",
              "    [theme=dark] .colab-df-convert:hover {\n",
              "      background-color: #434B5C;\n",
              "      box-shadow: 0px 1px 3px 1px rgba(0, 0, 0, 0.15);\n",
              "      filter: drop-shadow(0px 1px 2px rgba(0, 0, 0, 0.3));\n",
              "      fill: #FFFFFF;\n",
              "    }\n",
              "  </style>\n",
              "\n",
              "      <script>\n",
              "        const buttonEl =\n",
              "          document.querySelector('#df-c275fcc4-8e42-400c-bd24-9e5cb01547c7 button.colab-df-convert');\n",
              "        buttonEl.style.display =\n",
              "          google.colab.kernel.accessAllowed ? 'block' : 'none';\n",
              "\n",
              "        async function convertToInteractive(key) {\n",
              "          const element = document.querySelector('#df-c275fcc4-8e42-400c-bd24-9e5cb01547c7');\n",
              "          const dataTable =\n",
              "            await google.colab.kernel.invokeFunction('convertToInteractive',\n",
              "                                                     [key], {});\n",
              "          if (!dataTable) return;\n",
              "\n",
              "          const docLinkHtml = 'Like what you see? Visit the ' +\n",
              "            '<a target=\"_blank\" href=https://colab.research.google.com/notebooks/data_table.ipynb>data table notebook</a>'\n",
              "            + ' to learn more about interactive tables.';\n",
              "          element.innerHTML = '';\n",
              "          dataTable['output_type'] = 'display_data';\n",
              "          await google.colab.output.renderOutput(dataTable, element);\n",
              "          const docLink = document.createElement('div');\n",
              "          docLink.innerHTML = docLinkHtml;\n",
              "          element.appendChild(docLink);\n",
              "        }\n",
              "      </script>\n",
              "    </div>\n",
              "  </div>\n",
              "  "
            ]
          },
          "metadata": {},
          "execution_count": 52
        }
      ]
    },
    {
      "cell_type": "code",
      "source": [
        "level=courses.groupby([\"Level\"])\n",
        "p=level[\"Prerequisites_List\"].sum()"
      ],
      "metadata": {
        "id": "jLGCdgaW-Vba"
      },
      "execution_count": null,
      "outputs": []
    },
    {
      "cell_type": "code",
      "source": [
        "level=courses.groupby([\"Level\"])\n",
        "cov=level[\"Covered_List\"].sum()"
      ],
      "metadata": {
        "id": "XjtdNzxMXbYN"
      },
      "execution_count": null,
      "outputs": []
    },
    {
      "cell_type": "code",
      "source": [
        "p"
      ],
      "metadata": {
        "colab": {
          "base_uri": "https://localhost:8080/"
        },
        "id": "CIIRQPIMJ3HX",
        "outputId": "3d7582df-a44d-4b5d-9db2-ee1f49d33cb7"
      },
      "execution_count": null,
      "outputs": [
        {
          "output_type": "execute_result",
          "data": {
            "text/plain": [
              "Level\n",
              "advanced        [Python, SQL ,  Statistics, Prior experience P...\n",
              "beginner        [No Experience Required, None, No coding exper...\n",
              "intermediate    [Intermediate Python, intermediate SQL ,  comm...\n",
              "Name: Prerequisites_List, dtype: object"
            ]
          },
          "metadata": {},
          "execution_count": 55
        }
      ]
    },
    {
      "cell_type": "code",
      "source": [
        "a_p,b_p,i_p=p[0],p[1],p[2]"
      ],
      "metadata": {
        "id": "FZusnnx_N1cz"
      },
      "execution_count": null,
      "outputs": []
    },
    {
      "cell_type": "code",
      "source": [
        "len(a_p)+len(i_p)"
      ],
      "metadata": {
        "colab": {
          "base_uri": "https://localhost:8080/"
        },
        "id": "dqE66bn2lDpu",
        "outputId": "f02e8a26-2f2e-44e6-830c-4d35d398daf5"
      },
      "execution_count": null,
      "outputs": [
        {
          "output_type": "execute_result",
          "data": {
            "text/plain": [
              "211"
            ]
          },
          "metadata": {},
          "execution_count": 57
        }
      ]
    },
    {
      "cell_type": "code",
      "source": [
        "preq_list=np.unique(a_p+i_p)"
      ],
      "metadata": {
        "id": "5_sqNfybmM-z"
      },
      "execution_count": null,
      "outputs": []
    },
    {
      "cell_type": "code",
      "source": [
        "b_p"
      ],
      "metadata": {
        "colab": {
          "base_uri": "https://localhost:8080/"
        },
        "id": "l27trC5y6OZV",
        "outputId": "16fc1a40-9bc7-434f-e8ee-fea54163a283"
      },
      "execution_count": null,
      "outputs": [
        {
          "output_type": "execute_result",
          "data": {
            "text/plain": [
              "['No Experience Required',\n",
              " 'None',\n",
              " 'No coding experience needed',\n",
              " 'No Experience Required.',\n",
              " 'None',\n",
              " 'Basic understanding data types',\n",
              " 'No Experience Required.',\n",
              " 'Basic Algebra Programming Knowledge',\n",
              " 'No Experience Required',\n",
              " 'Microsoft Excel',\n",
              " 'Basic knowledge network connectivity OS fundamentals',\n",
              " 'Algebra, Descriptive Statistics, Excel',\n",
              " 'No Experience Required',\n",
              " 'No prior knowledge required',\n",
              " 'Professional fluency English',\n",
              " 'Basic Data Analysis',\n",
              " 'No Prerequisites',\n",
              " 'Basic familiarity Microsoft applications data manipulation',\n",
              " 'Basic computer skills',\n",
              " 'Basic computer programming',\n",
              " 'Understanding data privacy regulations cybersecurity best practices',\n",
              " 'None',\n",
              " 'No prior experience required',\n",
              " 'none',\n",
              " 'none',\n",
              " 'none',\n",
              " 'none',\n",
              " 'none',\n",
              " 'none',\n",
              " 'none',\n",
              " 'none',\n",
              " 'none',\n",
              " 'none',\n",
              " 'none',\n",
              " 'none',\n",
              " 'none',\n",
              " 'none',\n",
              " 'none',\n",
              " 'none',\n",
              " 'none',\n",
              " 'none',\n",
              " 'none',\n",
              " 'none',\n",
              " 'none',\n",
              " 'none',\n",
              " 'none',\n",
              " 'none',\n",
              " 'none',\n",
              " 'none',\n",
              " 'none',\n",
              " 'none',\n",
              " 'none',\n",
              " 'none',\n",
              " 'none',\n",
              " 'none',\n",
              " 'none',\n",
              " 'none',\n",
              " 'none',\n",
              " 'none',\n",
              " 'none',\n",
              " 'none',\n",
              " 'none',\n",
              " 'none',\n",
              " 'none',\n",
              " 'none',\n",
              " 'none',\n",
              " 'none',\n",
              " 'none']"
            ]
          },
          "metadata": {},
          "execution_count": 59
        }
      ]
    },
    {
      "cell_type": "code",
      "source": [
        "preq_beg = {}\n",
        "\n",
        "for i in b_p:\n",
        "  if i in preq_beg:\n",
        "    preq_beg[i]+=1\n",
        "  else:\n",
        "    preq_beg[i]=1\n",
        "preq_beg"
      ],
      "metadata": {
        "colab": {
          "base_uri": "https://localhost:8080/"
        },
        "id": "6xS5ideJmWp3",
        "outputId": "47cce20a-36bd-40f4-abfe-40562abf8f41"
      },
      "execution_count": null,
      "outputs": [
        {
          "output_type": "execute_result",
          "data": {
            "text/plain": [
              "{'No Experience Required': 3,\n",
              " 'None': 3,\n",
              " 'No coding experience needed': 1,\n",
              " 'No Experience Required.': 2,\n",
              " 'Basic understanding data types': 1,\n",
              " 'Basic Algebra Programming Knowledge': 1,\n",
              " 'Microsoft Excel': 1,\n",
              " 'Basic knowledge network connectivity OS fundamentals': 1,\n",
              " 'Algebra, Descriptive Statistics, Excel': 1,\n",
              " 'No prior knowledge required': 1,\n",
              " 'Professional fluency English': 1,\n",
              " 'Basic Data Analysis': 1,\n",
              " 'No Prerequisites': 1,\n",
              " 'Basic familiarity Microsoft applications data manipulation': 1,\n",
              " 'Basic computer skills': 1,\n",
              " 'Basic computer programming': 1,\n",
              " 'Understanding data privacy regulations cybersecurity best practices': 1,\n",
              " 'No prior experience required': 1,\n",
              " 'none': 45}"
            ]
          },
          "metadata": {},
          "execution_count": 60
        }
      ]
    },
    {
      "cell_type": "code",
      "source": [
        "preq_list"
      ],
      "metadata": {
        "colab": {
          "base_uri": "https://localhost:8080/"
        },
        "id": "HWp0T9jfCJlF",
        "outputId": "e1b84ebe-1ba3-4961-f4b4-da026deb9e3e"
      },
      "execution_count": null,
      "outputs": [
        {
          "output_type": "execute_result",
          "data": {
            "text/plain": [
              "array([' CSS, JavaScript, Asynchronous JavaScript (AJAX) Web forms',\n",
              "       ' Deep Learning', ' Deep Learning.', ' Mathematics',\n",
              "       ' Product Management Experience Recommended', ' Programming',\n",
              "       ' Python', ' SQL', ' Statistics', ' command line',\n",
              "       ' machine learning fundamentals', 'AI ',\n",
              "       'Algebra, Calculus, Statistics, ', 'Basic JavaScript',\n",
              "       'Basic Python',\n",
              "       'Basic knowledge machine learning algorithms Python programming',\n",
              "       'Basic programming concepts like variables, loops conditionals.',\n",
              "       'Basics Python, experience configuring AWS Linux environments',\n",
              "       'Experience Cloud Computing, Programming, AWS',\n",
              "       'Experience Object-Oriented Programming',\n",
              "       'Experience Python, Probability, Machine Learning, ',\n",
              "       'Experience Python, SQL, security fundamentals',\n",
              "       'Experience SQL, Python, Azure, Github',\n",
              "       'Experience cloud computing, programming Microsoft Azure',\n",
              "       'Familiarity basic cybersecurity concepts practices', 'HTML ',\n",
              "       'HTML, CSS, Basic JavaScript, JSON',\n",
              "       'HTTP, Python, Git, Linux, Docker',\n",
              "       'Intermediate C++, Calculus, Probability',\n",
              "       'Intermediate JavaScript', 'Intermediate Programming',\n",
              "       'Intermediate Python',\n",
              "       'Intermediate Python, Experience Machine Learning',\n",
              "       'Intermediate Python, SQL, Basics ETL/Data Pipelines',\n",
              "       'Intermediate Python, SQL, experience ETL',\n",
              "       'Intermediate Python, familiarity Linux shell scripting cloud concepts',\n",
              "       'Intermediate Python, intermediate SQL ',\n",
              "       'Intermediate knowledge Java',\n",
              "       'Intermediate programming experience, familiarity SQL databases Git',\n",
              "       'Knowledge basic HTML, CSS, JavaScript', 'Linux AWS',\n",
              "       'Linux Azure', 'Linux, Networking, Programming Window OS',\n",
              "       'Mathematics ', 'Object-oriented programming',\n",
              "       'Prior Data Analysis ',\n",
              "       'Prior Product Management Experience recommended',\n",
              "       'Prior experience Python Machine Learning',\n",
              "       'Prior experience Python, CSS/HTML, Git',\n",
              "       'Prior experience Python, Machine Learning, Statistics',\n",
              "       'Programming ', 'Python ', 'Python Basic Algebra',\n",
              "       'Python Java, Bash Powershell, Linux, UNIX Shell SQL',\n",
              "       'Python SQL', 'Python, C++, Linear Algebra Calculus',\n",
              "       'Python, Microsoft Azure, JSON REST programming semantics',\n",
              "       'Python, SQL ', 'Python, Statistics, Machine Learning, ',\n",
              "       'Statistics, Probability, Business Experience',\n",
              "       'Word Processors, Spreadsheets, Presentation Tools', 'none'],\n",
              "      dtype='<U69')"
            ]
          },
          "metadata": {},
          "execution_count": 61
        }
      ]
    },
    {
      "cell_type": "code",
      "source": [
        "preq_list1=list(preq_list[3:])\n",
        "preq_list1"
      ],
      "metadata": {
        "colab": {
          "base_uri": "https://localhost:8080/"
        },
        "id": "WRm5zn8Emqzi",
        "outputId": "f63a9225-6a0d-49ad-f7d9-575947554e88"
      },
      "execution_count": null,
      "outputs": [
        {
          "output_type": "execute_result",
          "data": {
            "text/plain": [
              "[' AWS',\n",
              " ' Asynchronous JavaScript (AJAX) Web forms',\n",
              " ' Azure',\n",
              " ' Bash Powershell',\n",
              " ' Basic JavaScript',\n",
              " ' Basics ETL/Data Pipelines',\n",
              " ' Business Experience',\n",
              " ' C++',\n",
              " ' CSS',\n",
              " ' CSS/HTML',\n",
              " ' Calculus',\n",
              " ' Docker',\n",
              " ' Experience Machine Learning',\n",
              " ' Git',\n",
              " ' Github',\n",
              " ' JSON',\n",
              " ' JSON REST programming semantics',\n",
              " ' JavaScript',\n",
              " ' Linear Algebra Calculus',\n",
              " ' Linux',\n",
              " ' Machine Learning',\n",
              " ' Microsoft Azure',\n",
              " ' Networking',\n",
              " ' Presentation Tools',\n",
              " ' Probability',\n",
              " ' Programming',\n",
              " ' Programming Window OS',\n",
              " ' Python',\n",
              " ' SQL',\n",
              " ' SQL & Statistics',\n",
              " ' Spreadsheets',\n",
              " ' Statistics',\n",
              " ' UNIX Shell SQL',\n",
              " ' experience ETL',\n",
              " ' experience configuring AWS Linux environments',\n",
              " ' familiarity Linux shell scripting cloud concepts',\n",
              " ' familiarity SQL databases Git',\n",
              " ' intermediate SQL & command line',\n",
              " ' loops conditionals.',\n",
              " ' programming Microsoft Azure',\n",
              " ' security fundamentals',\n",
              " 'AI & machine learning fundamentals',\n",
              " 'Algebra',\n",
              " 'Basic JavaScript',\n",
              " 'Basic Python',\n",
              " 'Basic knowledge machine learning algorithms Python programming',\n",
              " 'Basic programming concepts like variables',\n",
              " 'Basics Python',\n",
              " 'Experience Cloud Computing',\n",
              " 'Experience Object-Oriented Programming',\n",
              " 'Experience Python',\n",
              " 'Experience SQL',\n",
              " 'Experience cloud computing',\n",
              " 'Familiarity basic cybersecurity concepts practices',\n",
              " 'HTML',\n",
              " 'HTML & CSS',\n",
              " 'HTTP',\n",
              " 'Intermediate C++',\n",
              " 'Intermediate JavaScript',\n",
              " 'Intermediate Programming',\n",
              " 'Intermediate Python',\n",
              " 'Intermediate knowledge Java',\n",
              " 'Intermediate programming experience',\n",
              " 'Knowledge basic HTML',\n",
              " 'Linux',\n",
              " 'Linux AWS',\n",
              " 'Linux Azure',\n",
              " 'Mathematics & Programming',\n",
              " 'Object-oriented programming',\n",
              " 'Prior Data Analysis & Product Management Experience Recommended',\n",
              " 'Prior Product Management Experience recommended',\n",
              " 'Prior experience Python',\n",
              " 'Prior experience Python Machine Learning',\n",
              " 'Programming & Mathematics',\n",
              " 'Python',\n",
              " 'Python & Mathematics',\n",
              " 'Python & SQL',\n",
              " 'Python Basic Algebra',\n",
              " 'Python Java',\n",
              " 'Python SQL',\n",
              " 'Statistics',\n",
              " 'Word Processors',\n",
              " 'none']"
            ]
          },
          "metadata": {},
          "execution_count": 23
        }
      ]
    },
    {
      "cell_type": "code",
      "source": [
        "import csv"
      ],
      "metadata": {
        "id": "fnVQEkwLAPWr"
      },
      "execution_count": null,
      "outputs": []
    },
    {
      "cell_type": "code",
      "source": [
        "cov"
      ],
      "metadata": {
        "colab": {
          "base_uri": "https://localhost:8080/"
        },
        "id": "vl2E6K6RSsTQ",
        "outputId": "bf34c2cf-746d-444d-e88e-5c804c50458b"
      },
      "execution_count": null,
      "outputs": [
        {
          "output_type": "execute_result",
          "data": {
            "text/plain": [
              "Level\n",
              "advanced        [Machine Learning,  Deep Learning,  Software E...\n",
              "beginner        [Product Strategy,  Product Design,  Product D...\n",
              "intermediate    [AWS Glue,  Amazon S3,  AWS Data Warehouse,  R...\n",
              "Name: Covered_List, dtype: object"
            ]
          },
          "metadata": {},
          "execution_count": 21
        }
      ]
    },
    {
      "cell_type": "code",
      "source": [
        "a_c,b_c,i_c=cov[0],cov[1],cov[2]"
      ],
      "metadata": {
        "id": "pjaOhuV0XkgB"
      },
      "execution_count": null,
      "outputs": []
    },
    {
      "cell_type": "code",
      "source": [
        "cov_list=np.unique(a_c+i_c)"
      ],
      "metadata": {
        "id": "91-SO_dho4V8"
      },
      "execution_count": null,
      "outputs": []
    },
    {
      "cell_type": "code",
      "source": [
        "cov_list=list(cov_list)"
      ],
      "metadata": {
        "id": "JCqSa86bpB3z"
      },
      "execution_count": null,
      "outputs": []
    },
    {
      "cell_type": "code",
      "source": [
        "final=np.unique(preq_list1+cov_list)"
      ],
      "metadata": {
        "id": "VUo-6ZEhCemq"
      },
      "execution_count": null,
      "outputs": []
    },
    {
      "cell_type": "code",
      "source": [
        "final=list(final)"
      ],
      "metadata": {
        "id": "Ed6e9EsPCwZ_"
      },
      "execution_count": null,
      "outputs": []
    },
    {
      "cell_type": "code",
      "source": [
        "final[845]"
      ],
      "metadata": {
        "colab": {
          "base_uri": "https://localhost:8080/",
          "height": 35
        },
        "id": "x42i334oDEKT",
        "outputId": "53be6d8f-e47a-4eba-df77-282e3f85720e"
      },
      "execution_count": null,
      "outputs": [
        {
          "output_type": "execute_result",
          "data": {
            "text/plain": [
              "'theoretical computer science'"
            ],
            "application/vnd.google.colaboratory.intrinsic+json": {
              "type": "string"
            }
          },
          "metadata": {},
          "execution_count": 29
        }
      ]
    },
    {
      "cell_type": "code",
      "source": [
        "nltk.download('wordnet')"
      ],
      "metadata": {
        "colab": {
          "base_uri": "https://localhost:8080/"
        },
        "id": "A5MXIwhil9EY",
        "outputId": "091ffda0-9d76-4e9e-8a52-400fddeba230"
      },
      "execution_count": null,
      "outputs": [
        {
          "output_type": "stream",
          "name": "stderr",
          "text": [
            "[nltk_data] Downloading package wordnet to /root/nltk_data...\n"
          ]
        },
        {
          "output_type": "execute_result",
          "data": {
            "text/plain": [
              "True"
            ]
          },
          "metadata": {},
          "execution_count": 30
        }
      ]
    },
    {
      "cell_type": "code",
      "source": [
        "!pip install spacy"
      ],
      "metadata": {
        "colab": {
          "base_uri": "https://localhost:8080/"
        },
        "id": "iaXNJ5QkwKto",
        "outputId": "c60819db-6f3c-47cc-caa4-731328133916"
      },
      "execution_count": null,
      "outputs": [
        {
          "output_type": "stream",
          "name": "stdout",
          "text": [
            "Looking in indexes: https://pypi.org/simple, https://us-python.pkg.dev/colab-wheels/public/simple/\n",
            "Requirement already satisfied: spacy in /usr/local/lib/python3.9/dist-packages (3.5.1)\n",
            "Requirement already satisfied: thinc<8.2.0,>=8.1.8 in /usr/local/lib/python3.9/dist-packages (from spacy) (8.1.9)\n",
            "Requirement already satisfied: spacy-loggers<2.0.0,>=1.0.0 in /usr/local/lib/python3.9/dist-packages (from spacy) (1.0.4)\n",
            "Requirement already satisfied: requests<3.0.0,>=2.13.0 in /usr/local/lib/python3.9/dist-packages (from spacy) (2.27.1)\n",
            "Requirement already satisfied: srsly<3.0.0,>=2.4.3 in /usr/local/lib/python3.9/dist-packages (from spacy) (2.4.6)\n",
            "Requirement already satisfied: spacy-legacy<3.1.0,>=3.0.11 in /usr/local/lib/python3.9/dist-packages (from spacy) (3.0.12)\n",
            "Requirement already satisfied: packaging>=20.0 in /usr/local/lib/python3.9/dist-packages (from spacy) (23.0)\n",
            "Requirement already satisfied: murmurhash<1.1.0,>=0.28.0 in /usr/local/lib/python3.9/dist-packages (from spacy) (1.0.9)\n",
            "Requirement already satisfied: cymem<2.1.0,>=2.0.2 in /usr/local/lib/python3.9/dist-packages (from spacy) (2.0.7)\n",
            "Requirement already satisfied: pathy>=0.10.0 in /usr/local/lib/python3.9/dist-packages (from spacy) (0.10.1)\n",
            "Requirement already satisfied: preshed<3.1.0,>=3.0.2 in /usr/local/lib/python3.9/dist-packages (from spacy) (3.0.8)\n",
            "Requirement already satisfied: typer<0.8.0,>=0.3.0 in /usr/local/lib/python3.9/dist-packages (from spacy) (0.7.0)\n",
            "Requirement already satisfied: wasabi<1.2.0,>=0.9.1 in /usr/local/lib/python3.9/dist-packages (from spacy) (1.1.1)\n",
            "Requirement already satisfied: pydantic!=1.8,!=1.8.1,<1.11.0,>=1.7.4 in /usr/local/lib/python3.9/dist-packages (from spacy) (1.10.7)\n",
            "Requirement already satisfied: tqdm<5.0.0,>=4.38.0 in /usr/local/lib/python3.9/dist-packages (from spacy) (4.65.0)\n",
            "Requirement already satisfied: setuptools in /usr/local/lib/python3.9/dist-packages (from spacy) (67.6.0)\n",
            "Requirement already satisfied: smart-open<7.0.0,>=5.2.1 in /usr/local/lib/python3.9/dist-packages (from spacy) (6.3.0)\n",
            "Requirement already satisfied: langcodes<4.0.0,>=3.2.0 in /usr/local/lib/python3.9/dist-packages (from spacy) (3.3.0)\n",
            "Requirement already satisfied: jinja2 in /usr/local/lib/python3.9/dist-packages (from spacy) (3.1.2)\n",
            "Requirement already satisfied: catalogue<2.1.0,>=2.0.6 in /usr/local/lib/python3.9/dist-packages (from spacy) (2.0.8)\n",
            "Requirement already satisfied: numpy>=1.15.0 in /usr/local/lib/python3.9/dist-packages (from spacy) (1.22.4)\n",
            "Requirement already satisfied: typing-extensions>=4.2.0 in /usr/local/lib/python3.9/dist-packages (from pydantic!=1.8,!=1.8.1,<1.11.0,>=1.7.4->spacy) (4.5.0)\n",
            "Requirement already satisfied: urllib3<1.27,>=1.21.1 in /usr/local/lib/python3.9/dist-packages (from requests<3.0.0,>=2.13.0->spacy) (1.26.15)\n",
            "Requirement already satisfied: certifi>=2017.4.17 in /usr/local/lib/python3.9/dist-packages (from requests<3.0.0,>=2.13.0->spacy) (2022.12.7)\n",
            "Requirement already satisfied: idna<4,>=2.5 in /usr/local/lib/python3.9/dist-packages (from requests<3.0.0,>=2.13.0->spacy) (3.4)\n",
            "Requirement already satisfied: charset-normalizer~=2.0.0 in /usr/local/lib/python3.9/dist-packages (from requests<3.0.0,>=2.13.0->spacy) (2.0.12)\n",
            "Requirement already satisfied: blis<0.8.0,>=0.7.8 in /usr/local/lib/python3.9/dist-packages (from thinc<8.2.0,>=8.1.8->spacy) (0.7.9)\n",
            "Requirement already satisfied: confection<1.0.0,>=0.0.1 in /usr/local/lib/python3.9/dist-packages (from thinc<8.2.0,>=8.1.8->spacy) (0.0.4)\n",
            "Requirement already satisfied: click<9.0.0,>=7.1.1 in /usr/local/lib/python3.9/dist-packages (from typer<0.8.0,>=0.3.0->spacy) (8.1.3)\n",
            "Requirement already satisfied: MarkupSafe>=2.0 in /usr/local/lib/python3.9/dist-packages (from jinja2->spacy) (2.1.2)\n"
          ]
        }
      ]
    },
    {
      "cell_type": "code",
      "source": [
        "'''\n",
        "c=len(v[0])\n",
        "sizes=np.full(c,10)\n",
        "sizes=sizes.tolist()\n",
        "plt.title(\" Prerequisite Skills for Advanced courses\") #set the title of the graph\n",
        "fig, ax = plt.subplots()\n",
        "ax.pie(sizes, labels=v[0])'''"
      ],
      "metadata": {
        "colab": {
          "base_uri": "https://localhost:8080/",
          "height": 53
        },
        "id": "oMz3sSWBFSqU",
        "outputId": "1d31400a-0234-4f83-d43e-0b17a3227e3b"
      },
      "execution_count": null,
      "outputs": [
        {
          "output_type": "execute_result",
          "data": {
            "text/plain": [
              "'\\nc=len(v[0])\\nsizes=np.full(c,10)\\nsizes=sizes.tolist()\\nplt.title(\" Prerequisite Skills for Advanced courses\") #set the title of the graph\\nfig, ax = plt.subplots()\\nax.pie(sizes, labels=v[0])'"
            ],
            "application/vnd.google.colaboratory.intrinsic+json": {
              "type": "string"
            }
          },
          "metadata": {},
          "execution_count": 22
        }
      ]
    },
    {
      "cell_type": "code",
      "source": [
        "from collections import Counter"
      ],
      "metadata": {
        "id": "jnSQPZoOQWZM"
      },
      "execution_count": null,
      "outputs": []
    },
    {
      "cell_type": "code",
      "source": [
        "c = Counter(b_p)\n",
        "df = pd.DataFrame.from_dict(c, orient='index')\n",
        "df.plot.pie(subplots=True,figsize=(10, 10))\n",
        "#df.plot.bar(subplots=True)"
      ],
      "metadata": {
        "colab": {
          "base_uri": "https://localhost:8080/",
          "height": 592
        },
        "id": "zeTAKoGQQXaN",
        "outputId": "0884b01e-892b-4f4a-96c6-651c216db1b3"
      },
      "execution_count": null,
      "outputs": [
        {
          "output_type": "execute_result",
          "data": {
            "text/plain": [
              "array([<Axes: ylabel='0'>], dtype=object)"
            ]
          },
          "metadata": {},
          "execution_count": 24
        },
        {
          "output_type": "display_data",
          "data": {
            "text/plain": [
              "<Figure size 720x720 with 1 Axes>"
            ],
            "image/png": "[encoded data removed]"
          },
          "metadata": {}
        }
      ]
    },
    {
      "cell_type": "code",
      "source": [
        "!python -m spacy download en_core_web_sm"
      ],
      "metadata": {
        "colab": {
          "base_uri": "https://localhost:8080/"
        },
        "id": "2CTUn8-9F2AY",
        "outputId": "b5a0f1f1-6424-4493-b87d-c3efd7a75c91"
      },
      "execution_count": null,
      "outputs": [
        {
          "output_type": "stream",
          "name": "stdout",
          "text": [
            "/usr/local/lib/python3.9/dist-packages/torch/cuda/__init__.py:497: UserWarning: Can't initialize NVML\n",
            "  warnings.warn(\"Can't initialize NVML\")\n",
            "2023-03-25 19:19:18.787418: I tensorflow/core/platform/cpu_feature_guard.cc:193] This TensorFlow binary is optimized with oneAPI Deep Neural Network Library (oneDNN) to use the following CPU instructions in performance-critical operations:  AVX2 FMA\n",
            "To enable them in other operations, rebuild TensorFlow with the appropriate compiler flags.\n",
            "2023-03-25 19:19:20.326358: W tensorflow/compiler/xla/stream_executor/platform/default/dso_loader.cc:64] Could not load dynamic library 'libnvinfer.so.7'; dlerror: libnvinfer.so.7: cannot open shared object file: No such file or directory; LD_LIBRARY_PATH: /usr/local/nvidia/lib:/usr/local/nvidia/lib64\n",
            "2023-03-25 19:19:20.326479: W tensorflow/compiler/xla/stream_executor/platform/default/dso_loader.cc:64] Could not load dynamic library 'libnvinfer_plugin.so.7'; dlerror: libnvinfer_plugin.so.7: cannot open shared object file: No such file or directory; LD_LIBRARY_PATH: /usr/local/nvidia/lib:/usr/local/nvidia/lib64\n",
            "2023-03-25 19:19:20.326497: W tensorflow/compiler/tf2tensorrt/utils/py_utils.cc:38] TF-TRT Warning: Cannot dlopen some TensorRT libraries. If you would like to use Nvidia GPU with TensorRT, please make sure the missing libraries mentioned above are installed properly.\n",
            "2023-03-25 19:19:22.357597: E tensorflow/compiler/xla/stream_executor/cuda/cuda_driver.cc:267] failed call to cuInit: CUDA_ERROR_NO_DEVICE: no CUDA-capable device is detected\n",
            "Looking in indexes: https://pypi.org/simple, https://us-python.pkg.dev/colab-wheels/public/simple/\n",
            "Collecting en-core-web-sm==3.5.0\n",
            "  Downloading https://github.com/explosion/spacy-models/releases/download/en_core_web_sm-3.5.0/en_core_web_sm-3.5.0-py3-none-any.whl (12.8 MB)\n",
            "\u001b[2K     \u001b[90m━━━━━━━━━━━━━━━━━━━━━━━━━━━━━━━━━━━━━━━━\u001b[0m \u001b[32m12.8/12.8 MB\u001b[0m \u001b[31m18.3 MB/s\u001b[0m eta \u001b[36m0:00:00\u001b[0m\n",
            "\u001b[?25hRequirement already satisfied: spacy<3.6.0,>=3.5.0 in /usr/local/lib/python3.9/dist-packages (from en-core-web-sm==3.5.0) (3.5.1)\n",
            "Requirement already satisfied: pathy>=0.10.0 in /usr/local/lib/python3.9/dist-packages (from spacy<3.6.0,>=3.5.0->en-core-web-sm==3.5.0) (0.10.1)\n",
            "Requirement already satisfied: tqdm<5.0.0,>=4.38.0 in /usr/local/lib/python3.9/dist-packages (from spacy<3.6.0,>=3.5.0->en-core-web-sm==3.5.0) (4.65.0)\n",
            "Requirement already satisfied: requests<3.0.0,>=2.13.0 in /usr/local/lib/python3.9/dist-packages (from spacy<3.6.0,>=3.5.0->en-core-web-sm==3.5.0) (2.27.1)\n",
            "Requirement already satisfied: packaging>=20.0 in /usr/local/lib/python3.9/dist-packages (from spacy<3.6.0,>=3.5.0->en-core-web-sm==3.5.0) (23.0)\n",
            "Requirement already satisfied: srsly<3.0.0,>=2.4.3 in /usr/local/lib/python3.9/dist-packages (from spacy<3.6.0,>=3.5.0->en-core-web-sm==3.5.0) (2.4.6)\n",
            "Requirement already satisfied: murmurhash<1.1.0,>=0.28.0 in /usr/local/lib/python3.9/dist-packages (from spacy<3.6.0,>=3.5.0->en-core-web-sm==3.5.0) (1.0.9)\n",
            "Requirement already satisfied: pydantic!=1.8,!=1.8.1,<1.11.0,>=1.7.4 in /usr/local/lib/python3.9/dist-packages (from spacy<3.6.0,>=3.5.0->en-core-web-sm==3.5.0) (1.10.7)\n",
            "Requirement already satisfied: spacy-loggers<2.0.0,>=1.0.0 in /usr/local/lib/python3.9/dist-packages (from spacy<3.6.0,>=3.5.0->en-core-web-sm==3.5.0) (1.0.4)\n",
            "Requirement already satisfied: preshed<3.1.0,>=3.0.2 in /usr/local/lib/python3.9/dist-packages (from spacy<3.6.0,>=3.5.0->en-core-web-sm==3.5.0) (3.0.8)\n",
            "Requirement already satisfied: spacy-legacy<3.1.0,>=3.0.11 in /usr/local/lib/python3.9/dist-packages (from spacy<3.6.0,>=3.5.0->en-core-web-sm==3.5.0) (3.0.12)\n",
            "Requirement already satisfied: smart-open<7.0.0,>=5.2.1 in /usr/local/lib/python3.9/dist-packages (from spacy<3.6.0,>=3.5.0->en-core-web-sm==3.5.0) (6.3.0)\n",
            "Requirement already satisfied: typer<0.8.0,>=0.3.0 in /usr/local/lib/python3.9/dist-packages (from spacy<3.6.0,>=3.5.0->en-core-web-sm==3.5.0) (0.7.0)\n",
            "Requirement already satisfied: catalogue<2.1.0,>=2.0.6 in /usr/local/lib/python3.9/dist-packages (from spacy<3.6.0,>=3.5.0->en-core-web-sm==3.5.0) (2.0.8)\n",
            "Requirement already satisfied: jinja2 in /usr/local/lib/python3.9/dist-packages (from spacy<3.6.0,>=3.5.0->en-core-web-sm==3.5.0) (3.1.2)\n",
            "Requirement already satisfied: wasabi<1.2.0,>=0.9.1 in /usr/local/lib/python3.9/dist-packages (from spacy<3.6.0,>=3.5.0->en-core-web-sm==3.5.0) (1.1.1)\n",
            "Requirement already satisfied: cymem<2.1.0,>=2.0.2 in /usr/local/lib/python3.9/dist-packages (from spacy<3.6.0,>=3.5.0->en-core-web-sm==3.5.0) (2.0.7)\n",
            "Requirement already satisfied: setuptools in /usr/local/lib/python3.9/dist-packages (from spacy<3.6.0,>=3.5.0->en-core-web-sm==3.5.0) (67.6.0)\n",
            "Requirement already satisfied: langcodes<4.0.0,>=3.2.0 in /usr/local/lib/python3.9/dist-packages (from spacy<3.6.0,>=3.5.0->en-core-web-sm==3.5.0) (3.3.0)\n",
            "Requirement already satisfied: thinc<8.2.0,>=8.1.8 in /usr/local/lib/python3.9/dist-packages (from spacy<3.6.0,>=3.5.0->en-core-web-sm==3.5.0) (8.1.9)\n",
            "Requirement already satisfied: numpy>=1.15.0 in /usr/local/lib/python3.9/dist-packages (from spacy<3.6.0,>=3.5.0->en-core-web-sm==3.5.0) (1.22.4)\n",
            "Requirement already satisfied: typing-extensions>=4.2.0 in /usr/local/lib/python3.9/dist-packages (from pydantic!=1.8,!=1.8.1,<1.11.0,>=1.7.4->spacy<3.6.0,>=3.5.0->en-core-web-sm==3.5.0) (4.5.0)\n",
            "Requirement already satisfied: urllib3<1.27,>=1.21.1 in /usr/local/lib/python3.9/dist-packages (from requests<3.0.0,>=2.13.0->spacy<3.6.0,>=3.5.0->en-core-web-sm==3.5.0) (1.26.15)\n",
            "Requirement already satisfied: certifi>=2017.4.17 in /usr/local/lib/python3.9/dist-packages (from requests<3.0.0,>=2.13.0->spacy<3.6.0,>=3.5.0->en-core-web-sm==3.5.0) (2022.12.7)\n",
            "Requirement already satisfied: idna<4,>=2.5 in /usr/local/lib/python3.9/dist-packages (from requests<3.0.0,>=2.13.0->spacy<3.6.0,>=3.5.0->en-core-web-sm==3.5.0) (3.4)\n",
            "Requirement already satisfied: charset-normalizer~=2.0.0 in /usr/local/lib/python3.9/dist-packages (from requests<3.0.0,>=2.13.0->spacy<3.6.0,>=3.5.0->en-core-web-sm==3.5.0) (2.0.12)\n",
            "Requirement already satisfied: blis<0.8.0,>=0.7.8 in /usr/local/lib/python3.9/dist-packages (from thinc<8.2.0,>=8.1.8->spacy<3.6.0,>=3.5.0->en-core-web-sm==3.5.0) (0.7.9)\n",
            "Requirement already satisfied: confection<1.0.0,>=0.0.1 in /usr/local/lib/python3.9/dist-packages (from thinc<8.2.0,>=8.1.8->spacy<3.6.0,>=3.5.0->en-core-web-sm==3.5.0) (0.0.4)\n",
            "Requirement already satisfied: click<9.0.0,>=7.1.1 in /usr/local/lib/python3.9/dist-packages (from typer<0.8.0,>=0.3.0->spacy<3.6.0,>=3.5.0->en-core-web-sm==3.5.0) (8.1.3)\n",
            "Requirement already satisfied: MarkupSafe>=2.0 in /usr/local/lib/python3.9/dist-packages (from jinja2->spacy<3.6.0,>=3.5.0->en-core-web-sm==3.5.0) (2.1.2)\n",
            "\u001b[38;5;2m✔ Download and installation successful\u001b[0m\n",
            "You can now load the package via spacy.load('en_core_web_sm')\n"
          ]
        }
      ]
    },
    {
      "cell_type": "code",
      "source": [
        "import gensim.downloader as api\n",
        "w2v_embedding = api.load(\"glove-wiki-gigaword-100\")"
      ],
      "metadata": {
        "colab": {
          "base_uri": "https://localhost:8080/"
        },
        "id": "6vJ46d3AOtfa",
        "outputId": "e9c3de1c-f004-4b03-e9e5-d6a4b5ed763d"
      },
      "execution_count": null,
      "outputs": [
        {
          "output_type": "stream",
          "name": "stdout",
          "text": [
            "[=================================================-] 99.2% 127.0/128.1MB downloaded\n"
          ]
        }
      ]
    },
    {
      "cell_type": "code",
      "source": [
        "#w2v_embedding.get_vector(\"cat\")"
      ],
      "metadata": {
        "id": "fyAqxUt1QlfT"
      },
      "execution_count": null,
      "outputs": []
    },
    {
      "cell_type": "code",
      "source": [
        "import spacy\n",
        "from sklearn.cluster import KMeans\n",
        "import numpy as np\n",
        "nlp = spacy.load(\"en_core_web_sm\")"
      ],
      "metadata": {
        "colab": {
          "base_uri": "https://localhost:8080/"
        },
        "id": "Nm3zMsPRPuC0",
        "outputId": "ed4c7c5c-69da-4c7c-e6d7-d6412cd87722"
      },
      "execution_count": null,
      "outputs": [
        {
          "output_type": "stream",
          "name": "stderr",
          "text": [
            "/usr/local/lib/python3.9/dist-packages/torch/cuda/__init__.py:497: UserWarning: Can't initialize NVML\n",
            "  warnings.warn(\"Can't initialize NVML\")\n"
          ]
        }
      ]
    },
    {
      "cell_type": "code",
      "source": [
        "type(final[3])"
      ],
      "metadata": {
        "colab": {
          "base_uri": "https://localhost:8080/"
        },
        "id": "Vp8wFfDnROg1",
        "outputId": "2050a08a-0716-4cbd-a1ac-f132b9c139ef"
      },
      "execution_count": null,
      "outputs": [
        {
          "output_type": "execute_result",
          "data": {
            "text/plain": [
              "numpy.str_"
            ]
          },
          "metadata": {},
          "execution_count": 39
        }
      ]
    },
    {
      "cell_type": "code",
      "source": [
        "nlp(\"pizza\").vector"
      ],
      "metadata": {
        "colab": {
          "base_uri": "https://localhost:8080/"
        },
        "id": "j6zJ_1A-QZsF",
        "outputId": "7d0f9929-568a-43c3-928c-334120216c87"
      },
      "execution_count": null,
      "outputs": [
        {
          "output_type": "execute_result",
          "data": {
            "text/plain": [
              "array([-0.9675777 ,  0.19733873, -0.5971762 ,  1.0399059 ,  0.38744596,\n",
              "       -0.17521548,  1.5473565 ,  1.5184346 ,  0.41764423, -0.73449326,\n",
              "        1.3187623 , -1.2650486 , -1.0112786 , -0.5900398 , -0.12623787,\n",
              "        1.4123214 , -0.6260485 , -1.1492767 ,  0.936402  ,  0.4505814 ,\n",
              "       -0.29652876,  0.5705398 , -0.69091284, -0.02843271,  0.08893076,\n",
              "        0.8205796 , -0.09751113,  0.5680062 ,  0.7399606 , -0.90716875,\n",
              "       -0.390314  , -0.05776107,  1.0506455 , -0.5883161 , -0.38515532,\n",
              "       -1.8954954 ,  0.28516516,  1.2322313 ,  1.1084085 , -0.46577355,\n",
              "       -0.49836695, -0.67254645, -0.09268445,  0.26330316, -0.5056845 ,\n",
              "       -0.8696108 , -1.340135  ,  1.0586883 ,  0.32627332, -0.71886295,\n",
              "        0.5966985 ,  0.283499  ,  0.82015663, -0.9752629 ,  0.41959184,\n",
              "        0.19887239,  0.75127983,  0.01748744,  0.11798638, -0.11229837,\n",
              "       -0.35429186,  0.07913894, -0.9090864 , -0.29691333,  1.397029  ,\n",
              "        0.91937816, -0.24509284, -0.26652622,  0.6468258 , -0.65795195,\n",
              "        0.41518497,  0.42475548,  1.044613  , -0.5661981 ,  0.4069347 ,\n",
              "        0.648154  , -0.3449319 , -0.3801422 ,  0.24411517, -0.6337162 ,\n",
              "        0.13974538, -0.32873604, -1.2143574 , -1.2457006 ,  0.25539023,\n",
              "        0.7982558 , -0.8336557 ,  0.10805166, -1.2490013 ,  0.8859695 ,\n",
              "       -0.73040605, -0.16677605,  1.017539  ,  0.6611045 , -0.8524178 ,\n",
              "        0.9921927 ], dtype=float32)"
            ]
          },
          "metadata": {},
          "execution_count": 36
        }
      ]
    },
    {
      "cell_type": "code",
      "source": [
        "test=[\"Database\",\"MongoDB\",\"sql\",\"Machine learning\",\"Pandas\",\"supervised Learning\",\"Clustering\",\"App Marketing\"]"
      ],
      "metadata": {
        "id": "fXgra-dN3NmO"
      },
      "execution_count": null,
      "outputs": []
    },
    {
      "cell_type": "code",
      "source": [
        "n=[nlp(str(f)).vector for f in final]\n",
        "type(n)"
      ],
      "metadata": {
        "colab": {
          "base_uri": "https://localhost:8080/"
        },
        "id": "-P7-gb8gPqlN",
        "outputId": "b073d46c-28b7-447d-c4aa-2e4280083b0a"
      },
      "execution_count": null,
      "outputs": [
        {
          "output_type": "execute_result",
          "data": {
            "text/plain": [
              "list"
            ]
          },
          "metadata": {},
          "execution_count": 68
        }
      ]
    },
    {
      "cell_type": "code",
      "source": [
        "kmeans = KMeans(n_clusters=40, random_state=0).fit(n)\n",
        "groups = {}\n",
        "for i, sen in enumerate(final):\n",
        "    if kmeans.labels_[i] in groups:\n",
        "        groups[kmeans.labels_[i]].append(sen)\n",
        "    else:\n",
        "        groups[kmeans.labels_[i]] = [sen]\n",
        "\n",
        "# Print the groups\n",
        "for group, sens in groups.items():\n",
        "    print(group, sens)"
      ],
      "metadata": {
        "colab": {
          "base_uri": "https://localhost:8080/"
        },
        "id": "F3BgA2GHJ81f",
        "outputId": "2ae64bfc-a1a8-4f76-b00f-5c431cdd0dff"
      },
      "execution_count": null,
      "outputs": [
        {
          "output_type": "stream",
          "name": "stderr",
          "text": [
            "/usr/local/lib/python3.9/dist-packages/sklearn/cluster/_kmeans.py:870: FutureWarning: The default value of `n_init` will change from 10 to 'auto' in 1.4. Set the value of `n_init` explicitly to suppress the warning\n",
            "  warnings.warn(\n"
          ]
        },
        {
          "output_type": "stream",
          "name": "stdout",
          "text": [
            "8 [' 2D', ' ARIA', ' Android', ' Angular', ' Azure', ' BuddyBuild', ' C++', ' CRUD', ' Calculus', ' Docker', ' ESLint', ' ETL', ' FileManager', ' Flexbox', ' GCD', ' Github', ' Gulp', ' Java', ' JavaScript', ' Jest', ' Kafka', ' LLDB', ' Linux', ' MapReduce', ' Matplotlib', ' Node.js', ' OAuth 2.0', ' OOP', ' Perceptron', ' Python', ' SLAM', ' Sinatra', ' SparkSQL', ' Syntax', ' TypeScript', ' UIKit', ' Webpack']\n",
            "12 [' 2D Medical Imaging', ' 3D Medical Imaging', ' Amazon S3', ' Apache Airflow', ' App Architecture', ' App Store', ' Automated Cloud Cost Optimization', ' Azure Resource Manager', ' Bash Powershell', ' Blockchain Architecture', ' C++ Standard Library', ' Cloud Automation', ' Cloud Computing Fluency', ' Cloud Cost Evaluation', ' Cloud Cost Governance', ' Cloud Cost Policies', ' Cloud Migration', ' Cloud Operational Efficiency', ' Cloud Resource Allocation', ' Cloud Security', ' Cloud Security Fluency', ' Computer Image Generation', ' Control Flow Syntax', ' Deep Learning Fluency', ' Differential Register Allocation', ' Firebase Remote Config', ' Key Phrase Extraction', ' Linear Algebra Calculus', ' Machine Learning Fluency', ' Machine Learning Pipelines', ' Microsoft Azure', ' Microsoft Bot Framework', ' Model Bias Mitigation', ' Online Analytical Processing', ' Path Planning Control', ' Python Package Index', ' React Component State', ' Sequential Query Language', ' Speech Recognition', ' Syntax Directed Translation', ' UNIX Shell SQL']\n",
            "35 [' A/B Matched Pair Design Tests', ' Access Control Matrices', ' Application Development Best Practices', ' Application State Management Redux', ' Azure Conversational AI Agents', ' Cloud Architecture Model Types', ' Compilers Embedded Systems', ' Configuration Management Ansible', ' Constraint Satisfaction Problems', ' Container Vulnerability Management', ' Control Flow Analysis', ' Data Center Networking', ' Data Lake Architecture', ' Data Lifecycle Management', ' Data Loading SageMaker', ' Data Pipeline Creation', ' Data Pipeline DAGs', ' Data Pipeline Maintenance', ' Data Privacy Fundamentals', ' Data Privacy Regulations', ' Data Version Control', ' Data Warehouse Architecture', ' Defensible Network Architecture', ' Electronic Health Record Data', ' Exploratory Data Analysis', ' Health Care Applications', ' Identity Access Management Fundamentals', ' Incident Response Playbooks', ' Industrial Control Systems', ' Interview Practice Problems', ' MVC Design Pattern', ' Machine Learning Framework Fundamentals', ' Machine Learning Operations', ' Model Bias Analysis', ' Network Security Fundamentals', ' Neural Network Basics', ' Object Constraint Language', ' Privileged Identity Management', ' Product Monetization Metrics', ' Programming Vertex Pixel Shaders', ' React Design Patterns', ' Redaction Data Minimization', ' Regional Privacy Regulations', ' Relational Data Design', ' Secure Network Architecture Design', ' Service Level Indicators', ' Service Worker DevTools', ' Time Series Analysis', ' Time-Series Analysis ML', ' User Journey Maps', ' Web App Manifest', ' Zero Trust Algorithms', ' Zero Trust Deployment Strategy', ' Zero Trust Maturity Model', ' Zero Trust Security Model']\n",
            "31 [' AI Algorithms', ' AI Governance', ' AI Transparency', ' API Security', ' Access Management', ' Activation Strategy', ' Android Studio', ' Apache Spark', ' Apache Storm', ' App Development', ' Application Modernization', ' Argo CD', ' Backup Strategy', ' Branch Prediction', ' Business Experience', ' Business Strategy', ' Capacity Management', ' Career Advancement', ' Code Review', ' Cohort Analysis', ' Computer Vision', ' Configuration Management', ' Congestion Control', ' Content Distribution', ' Control Flow', ' Core Data', ' Core ML', ' Customer Acquisition', ' Cyber Security', ' Cybersecurity Compliance', ' DOM Structure', ' Data Architecture', ' Data Encryption', ' Data Extraction', ' Data Science', ' Data Visualization', ' Databases SQL', ' Dataflow Analysis', ' Design Process', ' DiD Framework', ' Experiment Design', ' Face Detection', ' Feature Selection', ' Feature Transformation', ' Form Recognition', ' Game Development', ' Game Theory', ' Growth Strategy', ' Ideation Research', ' Ideation Validation', ' Image Classification', ' Image Generation', ' Incident Management', ' Information Theory', ' Intent Recognition', ' Machine Translation', ' Memory Management', ' Microservice Design', ' Minimax Search', ' Modular code', ' Network Security', ' Object Detection', ' Pattern Recognition', ' Perimeter Security', ' Platform Service', ' Product Design', ' Product Management', ' Product Monetization Strategy', ' Python API', ' QMV Process', ' Resource Virtualization', ' Risk Evaluation', ' Robot Control', ' SQL Injection', ' Sentiment Analysis', ' Serverless Architecture', ' Site Customization', ' Software Architecture', ' Software Design', ' Software Engineering', ' Spring Boot', ' Stereo Geometry', ' Style Transfer', ' Test Automation', ' User Interaction', ' User Research', ' User Segmentation', ' Value Proposition', ' Vehicle Motion']\n",
            "3 [' ARIMA Models', ' AWS Data Warehouse', ' AWS DeepRacer', ' Activation Metrics', ' Alpha Factors', ' App Services', ' Automation Pipelines', ' Azure Pipelines', ' Bounding Boxes', ' C++ Templates', ' Clustering Models design', ' Collection Views', ' Custom Views', ' Customer Segments', ' Data APIs', ' Data Analysis', ' Data Anonymization', ' Data Governance', ' Data Innovation', ' Data Lakes', ' Data Manipulation', ' Data Minimization', ' Data Modeling', ' Data Modeling Basics', ' Data Structures', ' Data structures', ' Denormalized Data Schemas', ' Design Patterns', ' Design Sprints', ' Design Visualizations', ' Differential Equations', ' Disaster Recovery Plans', ' ETS Models', ' Evaluation Metrics', ' Facebook SDK', ' File Systems', ' Firebase Analytics', ' Github Actions', ' Google Analytics', ' Growth Loops', ' Intel OpenVINO', ' JavaScript Functions', ' Kalman Filters', ' Location Services', ' Message Passing Interfaces', ' Microservices Kubernetes', ' Multiprocessor Architectures', ' Network Processors', ' Optimization Algorithms', ' Presentation Tools', ' React Hooks', ' Reliability Reviews', ' Requirements Engineering', ' Requirements Gathering', ' Results Analysis', ' Revenue Models', ' SageMaker JumpStart', ' Screen Readers', ' Search Algorithms', ' Serverless Functions', ' Service Workers', ' Spark Dataframes', ' Stack Views', ' Static Maps', ' Table Views', ' Target Personas', ' Tiers Deletion', ' Web APIs', ' Web Applications']\n",
            "20 [' AVFoundation', ' Animation', ' Authentication', ' Authorization', ' Backpropagation', ' CSS', ' CloudFormation', ' Concurrency', ' Control', ' Cryptography', ' DOM', ' Deployment', ' ES6', ' Encryption', ' Estimation', ' Firebase', ' Flask', ' Focus', ' Git', ' Gradle', ' Grafana', ' HTML', ' Hadoop', ' JSON', ' Kotlin', ' Lidar', ' Localization', ' Mapping', ' MySQL', ' Navigation', ' Node', ' Observability', ' Optimization', ' Performance', ' PostgreSQL', ' Privacy', ' Probability', ' Prometheus', ' PyTorch', ' ROS', ' Radar', ' Reconnaissance', ' Redshift', ' Regression', ' SQL', ' Spark', ' Swift', ' Terraform', ' UI', ' URLSession', ' Usability', ' Validation', ' Virtualization', ' inVision', ' leadership', ' management', ' reflection']\n",
            "7 [' AWS', ' Algorithms', ' Analytics', ' Autoencoders', ' CNNs', ' Ciphers', ' Constraints', ' Controls', ' Databases', ' Functions', ' HTTPS', ' Heroku', ' Intersections', ' Kubernetes', ' LSTMs', ' Microservices', ' Notifications', ' Optionals', ' Robotics', ' Semantics', ' Sensors', ' Spreadsheets', ' Statistics', ' UserDefaults', ' Vectors', ' microservices']\n",
            "36 [' AWS Lambda', ' Automated model scoring', ' Backbone events routing', ' Bayesian networks', ' Building web applications', ' CSS JavaScript optimizations', ' CSS media queries', ' Common iOS Questions', ' Databases data stores', ' Generating sequences async work', ' HTTP headers verbs', ' How debug app', ' JSON REST programming semantics', ' Java modules', ' Markov models', ' OLAP Cubes', ' Offline apps', ' RESTful interfaces', ' Relational data modeling', ' Secure user account systems', ' Select insert statements', \" Underscore's template function\", ' User input validation HTML5 attributes', ' cloud center excellence', ' cloud governance model', ' concurrent programming', ' experience configuring AWS Linux environments', ' familiarity Linux shell scripting cloud concepts', ' functional programming', ' loops conditionals.', ' novel cloud services', ' operational efficiencies']\n",
            "17 [' Advanced error handling', ' Asset management', ' CSS flexbox', ' Cloud solution', ' Code organization', ' DOM CSSOM', ' Data functionality', ' Datalist input', ' HTTP/1 HTTP/2 capabilities', ' Jasmine testing framework', ' Microservices security', ' Model testing', ' Modify HTML attributes content', ' Network security', ' OS management', ' Prototypal inheritance', ' REST APIs', ' Rest API', ' cryptanalysis systems security', ' experience ETL', ' familiarity SQL databases Git', ' incident detection handling', ' load balancer traffic management', ' security fundamentals', ' security research', ' security threat mitigation', ' serverless architecture', ' threat modeling', ' vulnerability assessment']\n",
            "25 [' Agile Development Methodology', ' Azure Cognitive Services', ' Basic JavaScript', ' Big Data Fluency', ' Common Android Questions', ' Common Data Questions', ' Common FE Questions', ' Common FS Questions', ' Common VR Questions', ' Computational Investing', ' Continuous Integration / Continuous Deployment', ' Convolutional Neural Networks', ' Deep Learning Models', ' Deep Learning Techniques', ' Deployment Automation', ' Deployment Rollback', ' Digital Transformation Strategy', ' Direct Manipulation Interfaces', ' Ethical AI', ' Firebase Crash Reporting', ' Firebase Dynamic Links', ' Generative AI', ' Generative Adversarial Networks', ' Hierarchical Memory Models', ' High Availability Infrastructure', ' Mental Models', ' Mobile Design', ' Natural Language Processing', ' Neural Networks', ' Non-Binary Classification Models', ' Observability Best Practices', ' Operational Data Stores', ' React Native Basics', ' React-Redux Bindings', ' Recurrent Neural Networks', ' Relational Algebra', ' Sensitive Data Tracking', ' Simultaneous Localization Mapping', ' Smart Grid Infrastructure', ' Social Networks', ' Temporal Difference']\n",
            "21 [' Agile Planning', ' Ajax Fetch', ' Ajax XHR', ' Ajax jQuery', ' Algorithmic Trading', ' Analogical Reasoning', ' Asynchronous Programming', ' Asynchronous code', ' Automated Debugging', ' Automated ML', ' Automated Testing', ' Bayesian Networks', ' Continuous Delivery', ' Continuous Integration', ' Explainable AI', ' Facial Recognition', ' Human Capital', ' Parallel Algorithms', ' Premium Value', ' Public Policy', ' Responsible AI', ' Semantic Analysis', ' Smart Beta', ' Social Engineering', ' Statistical Significance', ' Symbolic Execution', ' Synchronous Programming', ' Virtual Memory', ' Visual Encodings', ' Wearable Device Data']\n",
            "5 [' Architecture Diagramming', ' Backtracking Search', ' Cloud Computing', ' Data Auditing', ' Data Indexing', ' Data Labeling', ' Data Wrangling', ' Deep Learning', ' Hyperparameter Tuning', ' Instruction Scheduling', ' JSON Parsing', ' Kafka Streaming', ' Live Editing', ' Logic Planning', ' Machine Learning', ' Memory Ordering', ' Message Passing', ' Motion Planning', ' Multithreaded Processing', ' Multithreaded Programming', ' Object Tracking', ' Path Planning', ' Penetration Testing', ' Problem Solving', ' React Router', ' Sensor Fusion', ' Serverless Computing', ' Software Testing', ' Spark Streaming', ' Supervised Learning', ' Traffic Shaping', ' Unsupervised Learning', ' Visuospatial Reasoning']\n",
            "32 [' Assessing Data', ' Building Angular apps', ' Building Ember apps', ' Cleaning Data', ' Creating responsive graphics', ' Deploying Microservices', ' Deploying services', ' Fetching Data', ' IndexedDB asset caching', ' Installing Plugins', ' Optimizing JavaScript', ' Optimizing forms', ' Optimizing layout', ' Producing templated output', ' Reading jQuery documentation', ' Recognizing algorithmic problems', ' Solving algorithmic problems', ' Validate user input using JavaScript', ' Writing organized code', ' monitoring API usage', ' programming Microsoft Azure']\n",
            "26 [' Asynchronous JavaScript (AJAX) Web forms', ' Basics ETL/Data Pipelines', ' CI/CD', ' CSS/HTML', ' Deep Deterministic Policy Gradients (DDPG)', ' Deep Q-Networks (DQN)', ' Idle Load (RAIL)', ' Partially Observable Markov Decision Processes (POMDP)', ' UI/UX']\n",
            "16 [' Authentication & Authorization', ' Classification & Recognition', ' Feature Detection & Matching', ' Logic & Planning', ' Pandas & NumPy', ' SQL & Statistics', ' Simultaneous Localization & Mapping', ' Supervised & Unsupervised Learning', ' intermediate SQL & command line', 'AI & machine learning fundamentals']\n",
            "2 [' Azure Defender', ' Azure Form Recognizer', ' Azure Key Vault', ' Azure Machine Learning SDK', ' Azure Pricing Calculator', ' Cloud Hardening Strategy', ' Critical Rendering Path HTML', ' Customer Acquisition Cost', ' Cybersecurity Policy Writing', ' Cybersecurity Risk Management', ' Experience Machine Learning', ' Graph API', ' Graph Algorithms', ' IT Asset Management', ' IT Infrastructure Modernization', ' Mobile Image debugging', ' Model Training', ' OCI Compute storage', ' Part Speech Tagging', ' Privacy Risk Assessment', ' Programming Window OS', ' Reinforcement Learning', ' Reinforcement Learning Trading', ' Reinforcement learning', ' Remote debugging emulation', ' Robot Operating System', ' SQL SQL scripting', ' Street View imagery', ' System Application Auditing']\n",
            "1 [' Black-Box & White-Box Testing', ' Client-Server Communication', ' Common-Sense Reasoning', ' Constraint-based Analysis', ' Long-short term Memory Networks', ' Model-View-Controller', ' N-tier applications', ' Object-Oriented Programming', ' Object-oriented Programming', ' Object-oriented programming', ' Object-relational Mapping', ' Open-source intelligence', ' Real-Time Operating Systems', ' Real-time Analytics', ' Self-Driving Cars', ' Self-Healing System Design', ' Understanding Lie-Fi', ' red-green-refactor workflow', 'Cost-Benefit Analysis', 'Developing offline-first applications', 'Experience Object-Oriented Programming', 'Object-Oriented Programming', 'Object-oriented programming', 'Software-Defined Networking']\n",
            "6 [' Bootstrapping', ' Clustering', ' Debugging', ' Hashing', ' Modeling', ' Monitoring', ' Networking', ' Planning', ' Programming', ' Prototyping', ' Testing', ' Whiteboarding', ' autoscaling']\n",
            "39 [' Building SRE Teams', ' Distributed Cognition', ' Distributed File Systems', ' Distributed Memory Models', ' Distributed Model Training SageMaker', ' Distributed Systems', ' Using Organizational Library']\n",
            "33 [' Geo-Replication', ' I/O', ' Incident Post-Mortems', ' Inter-Process Communication', ' NP-completeness', ' Objective-C', ' Python DB-API', ' k-anonymization', ' scikit-learn']\n",
            "28 [' IndexedDB', ' KnockoutJS', ' MongoDB', ' iOS']\n",
            "10 ['3D Motion Planning', 'Azure Machine Learning', 'Browser Rendering Response', 'Creating API', 'Data Wrangling', 'Device Hardening Strategy', 'Experience Cloud Computing', 'Gathering Data', 'Image Processing', 'Installing Sublime Text', 'Introduction Machine Learning', 'Machine Learning', 'Operating System Kernels', 'Prior experience Python Machine Learning', 'Processor Pipelining', 'Reinforcement Learning', 'Software Testing', 'Supervised Learning', 'Threat Modeling', 'Unified Modeling Language']\n",
            "34 ['A/B Randomized Design Tests', 'Asynchronous Data Retrieval', 'Chrome Developer Tools', 'Computer Program Design', 'Data Structures Algorithms', 'Database Management Systems', 'Google Cloud Fundamentals', 'Google Maps APIs', 'Momentum Trading Strategy', 'Prior Data Analysis & Product Management Experience Recommended', 'Prior Product Management Experience recommended', 'Privacy Design Framework', 'Progressive Web Apps', 'React Component State', 'Research HTML5 input types', 'Shared Memory Models', 'Single Page Applications', 'Software Development Life Cycle', 'Time Series Forecasting', 'Zero Trust Pillars']\n",
            "0 ['A/B tests', 'Asynchronous requests JavaScript', 'Basic elements cryptography', 'Basic knowledge machine learning algorithms Python programming', 'Basic programming concepts like variables', 'Computer vision', 'Digital transformation', 'Entity relationship diagrams', 'Experience cloud computing', 'Familiarity basic cybersecurity concepts practices', 'HTTP request response cycle', 'Intermediate knowledge Java', 'Intermediate programming experience', 'Interview questions', 'Microservice architecture', 'Prior experience Python', 'Rational databases', 'Responsive design patterns', 'Security controls', 'Separating concerns']\n",
            "14 ['AI Fairness', 'Account Kit', 'Android Development', 'App Deployment', 'App Marketing', 'Artificial Intelligence', 'Basic Python', 'Cloud Infrastructure', 'Continuous Integration', 'Database Normalization', 'Deep Learning', 'Edge AI', 'Ethereum Blockchain', 'Experience SQL', 'Feature Engineering', 'Functional Programming', 'Infrastructure Code', 'Javascript Apps', 'Linux Azure', 'Python Basic Algebra', 'Python Java', 'Python SQL', 'User Input', 'VLIW Architecture']\n",
            "37 ['API development', 'Acquisition Strategy', 'Animated 3D Demo Program', 'Azure Security Center', 'Business Strategy', 'Computer Vision', 'Constraint Propagation', 'Interview practice', 'Knowledge basic HTML', 'Object Detection', 'Object Oriented Javascript', 'Product Design', 'Randomized Optimization', 'Software Security', 'Swift Package Manager', 'Variable Reduction', 'Vulnerability Management', 'theoretical computer science']\n",
            "11 ['AWS', 'Algebra', 'Algorithms', 'Closures', 'Compilers', 'Kubernetes', 'Microservices', 'Pandas', 'Statistics']\n",
            "9 ['AWS Glue', 'Data Analysis', 'Data Analytics', 'Data Persistence', 'Data Science', 'Data Streaming', 'Design Principles']\n",
            "27 ['Accessibility', 'Cryptography', 'Design', 'Entrepreneurship', 'Math', 'Perception', 'Spark', 'none']\n",
            "13 ['Android', 'AutoLayout', 'Flask', 'JavaScript', 'Linux', 'Python', 'jQuery']\n",
            "19 ['Basic JavaScript', 'Basics Python', 'Big Data', 'Binary Classication Models', 'Convolutional Neural Networks', 'Industrial Networks', 'Intermediate JavaScript', 'Linux AWS', 'Native JavaScript Promises', 'Neural Networks', 'Operating Systems', 'Pointers Arrays', 'Probabilistic Models', 'Responsive Images', 'Semantic Networks', 'Variables Constants', 'Virtual Machines', 'Word Processors']\n",
            "24 ['C++', 'HTTP', 'Kotlin', 'OCI', 'VCN']\n",
            "22 ['Data Structures & Algorithms', 'HTML & CSS', 'Mathematics & Programming', 'Processes & Threads', 'Programming & Mathematics', 'Python & Mathematics', 'Python & SQL']\n",
            "15 ['Debugging', 'Networking', 'Prototyping', 'Questioning']\n",
            "4 ['Experience Python', 'Intermediate C++', 'Intermediate Programming', 'Intermediate Python', 'TensorFlow', 'TensorFlow Lite']\n",
            "23 ['HTML', 'R', 'd3.js']\n",
            "18 ['Java', 'Ruby']\n",
            "30 ['LibGDX']\n",
            "38 ['Swift']\n",
            "29 ['iOS']\n"
          ]
        }
      ]
    },
    {
      "cell_type": "code",
      "source": [
        "t=nlp(\"supervised learning\")\n",
        "t2=nlp(\"machine learning\")\n",
        "t.similarity(t2)"
      ],
      "metadata": {
        "colab": {
          "base_uri": "https://localhost:8080/"
        },
        "id": "xPu4KuPQ5Z6h",
        "outputId": "e07fb04c-441b-417d-fb81-35e2669b52a7"
      },
      "execution_count": null,
      "outputs": [
        {
          "output_type": "stream",
          "name": "stderr",
          "text": [
            "<ipython-input-51-a7f003e38186>:3: UserWarning: [W007] The model you're using has no word vectors loaded, so the result of the Doc.similarity method will be based on the tagger, parser and NER, which may not give useful similarity judgements. This may happen if you're using one of the small models, e.g. `en_core_web_sm`, which don't ship with word vectors and only use context-sensitive tensors. You can always add your own word vectors, or use one of the larger models instead if available.\n",
            "  t.similarity(t2)\n"
          ]
        },
        {
          "output_type": "execute_result",
          "data": {
            "text/plain": [
              "0.6137390356477009"
            ]
          },
          "metadata": {},
          "execution_count": 51
        }
      ]
    },
    {
      "cell_type": "code",
      "source": [
        "type(kmeans)"
      ],
      "metadata": {
        "colab": {
          "base_uri": "https://localhost:8080/"
        },
        "id": "lP4bXQ41Rk03",
        "outputId": "5924a850-6c9d-4ffd-e883-f16c43f5e369"
      },
      "execution_count": null,
      "outputs": [
        {
          "output_type": "execute_result",
          "data": {
            "text/plain": [
              "sklearn.cluster._kmeans.KMeans"
            ]
          },
          "metadata": {},
          "execution_count": 88
        }
      ]
    },
    {
      "cell_type": "code",
      "source": [
        "# Define a list of sentences\n",
        "sentences = [\"mysql\",\n",
        "             \"mongoDB\",\n",
        "             \"Clustering\",\n",
        "             \"pandas\"]\n",
        "\n",
        "# Calculate similarity between each sentence in the list and the target sentence\n",
        "target_sentence = nlp(\"Database\")\n",
        "similarities = []\n",
        "for sentence in sentences:\n",
        "    similarities.append((sentence, nlp(sentence).similarity(nlp(target_sentence))))\n",
        "\n",
        "# Print the most similar sentences\n",
        "similarities.sort(key=lambda x: x[1], reverse=True)\n",
        "for sentence, similarity in similarities:\n",
        "    print(sentence, similarity)"
      ],
      "metadata": {
        "colab": {
          "base_uri": "https://localhost:8080/"
        },
        "id": "NWNjIanf7num",
        "outputId": "cd3b407b-7302-4819-d86c-0e69bbb389a2"
      },
      "execution_count": null,
      "outputs": [
        {
          "output_type": "stream",
          "name": "stdout",
          "text": [
            "mysql 0.4975714606519913\n",
            "mongoDB 0.4961788080772283\n",
            "Clustering 0.41973512269964136\n",
            "pandas 0.2876174020580777\n"
          ]
        },
        {
          "output_type": "stream",
          "name": "stderr",
          "text": [
            "<ipython-input-54-26bf36e2c59d>:11: UserWarning: [W007] The model you're using has no word vectors loaded, so the result of the Doc.similarity method will be based on the tagger, parser and NER, which may not give useful similarity judgements. This may happen if you're using one of the small models, e.g. `en_core_web_sm`, which don't ship with word vectors and only use context-sensitive tensors. You can always add your own word vectors, or use one of the larger models instead if available.\n",
            "  similarities.append((sentence, nlp(sentence).similarity(nlp(target_sentence))))\n"
          ]
        }
      ]
    },
    {
      "cell_type": "code",
      "source": [
        "import nltk\n",
        "nltk.download('punkt')"
      ],
      "metadata": {
        "colab": {
          "base_uri": "https://localhost:8080/"
        },
        "id": "SBVSV8Nv90O4",
        "outputId": "0a64eed5-9ceb-4ad4-d12c-071a31bc13ef"
      },
      "execution_count": null,
      "outputs": [
        {
          "output_type": "stream",
          "name": "stderr",
          "text": [
            "[nltk_data] Downloading package punkt to /root/nltk_data...\n",
            "[nltk_data]   Unzipping tokenizers/punkt.zip.\n"
          ]
        },
        {
          "output_type": "execute_result",
          "data": {
            "text/plain": [
              "True"
            ]
          },
          "metadata": {},
          "execution_count": 56
        }
      ]
    },
    {
      "cell_type": "code",
      "source": [
        "from gensim.models.doc2vec import Doc2Vec, TaggedDocument\n",
        "from nltk.tokenize import word_tokenize\n",
        "\n",
        "# Define a list of sentences\n",
        "sentences = [\"MongoDB\",\"sql\",\"Machine learning\",\"Pandas\",\"supervised Learning\",\"Clustering\",\"App Marketing\"]\n",
        "#[\"food\",\"cars\",\"names\"]\n",
        "\n",
        "# Preprocess the sentences\n",
        "tagged_data = [TaggedDocument(words=word_tokenize(sentence.lower()), tags=[str(i)]) for i, sentence in enumerate(sentences)]\n",
        "\n",
        "# Train a Doc2Vec model\n",
        "model = Doc2Vec(tagged_data, vector_size=100, min_count=1, epochs=100)\n",
        "\n",
        "# Find the most similar sentences\n",
        "target_sentence = \"Database\"\n",
        "target_vector = model.infer_vector(word_tokenize(target_sentence.lower()))\n",
        "similarities = model.docvecs.most_similar([target_vector], topn=len(sentences))\n",
        "\n",
        "# Print the most similar sentences\n",
        "for index, similarity in similarities:\n",
        "    print(sentences[int(index)], similarity)"
      ],
      "metadata": {
        "colab": {
          "base_uri": "https://localhost:8080/"
        },
        "id": "1I0hN0jj9S1P",
        "outputId": "d813c624-e651-4334-f58c-84230ae36b8b"
      },
      "execution_count": null,
      "outputs": [
        {
          "output_type": "stream",
          "name": "stdout",
          "text": [
            "App Marketing 0.1323193460702896\n",
            "Machine learning 0.08046894520521164\n",
            "MongoDB 0.07791812717914581\n",
            "supervised Learning 0.014070439152419567\n",
            "Clustering -0.015125618316233158\n",
            "Pandas -0.08730325847864151\n",
            "sql -0.17019438743591309\n"
          ]
        },
        {
          "output_type": "stream",
          "name": "stderr",
          "text": [
            "<ipython-input-66-a45b3abd4780>:17: DeprecationWarning: Call to deprecated `docvecs` (The `docvecs` property has been renamed `dv`.).\n",
            "  similarities = model.docvecs.most_similar([target_vector], topn=len(sentences))\n"
          ]
        }
      ]
    }
  ]
}